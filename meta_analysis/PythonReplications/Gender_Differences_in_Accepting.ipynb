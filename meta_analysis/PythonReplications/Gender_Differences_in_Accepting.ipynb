{
 "cells": [
  {
   "cell_type": "code",
   "execution_count": 1,
   "metadata": {},
   "outputs": [],
   "source": [
    "import pandas as pd\n",
    "import numpy as np\n",
    "import statsmodels.formula.api as smf\n",
    "from statsmodels.iolib.summary2 import summary_col"
   ]
  },
  {
   "cell_type": "code",
   "execution_count": 2,
   "metadata": {},
   "outputs": [],
   "source": [
    "df_Tannenbaum = pd.read_stata('tannenbaum_et_al_2012_2013.dta')\n",
    "#df_Tannenbaum.to_excel('tannenbaum.xlsx')"
   ]
  },
  {
   "cell_type": "code",
   "execution_count": 3,
   "metadata": {},
   "outputs": [
    {
     "name": "stdout",
     "output_type": "stream",
     "text": [
      "Optimization terminated successfully.\n",
      "         Current function value: 0.151046\n",
      "         Iterations 7\n"
     ]
    }
   ],
   "source": [
    "formula_1 = 'volunteer ~ female + associate_professor + full_professor + emeritus_professor + other_rank'\n",
    "reg_1 = smf.probit(formula=formula_1, data=df_Tannenbaum).fit()"
   ]
  },
  {
   "cell_type": "code",
   "execution_count": 4,
   "metadata": {},
   "outputs": [
    {
     "name": "stdout",
     "output_type": "stream",
     "text": [
      "                          Probit Regression Results                           \n",
      "==============================================================================\n",
      "Dep. Variable:              volunteer   No. Observations:                 3271\n",
      "Model:                         Probit   Df Residuals:                     3265\n",
      "Method:                           MLE   Df Model:                            5\n",
      "Date:                Wed, 20 Dec 2023   Pseudo R-squ.:                 0.04560\n",
      "Time:                        01:56:16   Log-Likelihood:                -494.07\n",
      "converged:                       True   LL-Null:                       -517.68\n",
      "Covariance Type:            nonrobust   LLR p-value:                 5.133e-09\n",
      "=======================================================================================\n",
      "                          coef    std err          z      P>|z|      [0.025      0.975]\n",
      "---------------------------------------------------------------------------------------\n",
      "Intercept              -1.6963      0.109    -15.509      0.000      -1.911      -1.482\n",
      "female                  0.4006      0.088      4.569      0.000       0.229       0.572\n",
      "associate_professor    -0.0692      0.143     -0.483      0.629      -0.350       0.211\n",
      "full_professor         -0.2205      0.116     -1.900      0.057      -0.448       0.007\n",
      "emeritus_professor     -0.6152      0.165     -3.739      0.000      -0.938      -0.293\n",
      "other_rank             -0.3009      0.464     -0.649      0.516      -1.210       0.608\n",
      "=======================================================================================\n"
     ]
    }
   ],
   "source": [
    "print(reg_1.summary())"
   ]
  },
  {
   "cell_type": "code",
   "execution_count": 5,
   "metadata": {},
   "outputs": [],
   "source": [
    "mfx_1 = reg_1.get_margeff(method='dydx',dummy='True',at='mean')"
   ]
  },
  {
   "cell_type": "code",
   "execution_count": 6,
   "metadata": {},
   "outputs": [
    {
     "name": "stdout",
     "output_type": "stream",
     "text": [
      "       Probit Marginal Effects       \n",
      "=====================================\n",
      "Dep. Variable:              volunteer\n",
      "Method:                          dydx\n",
      "At:                              mean\n",
      "=======================================================================================\n",
      "                         dy/dx    std err          z      P>|z|      [0.025      0.975]\n",
      "---------------------------------------------------------------------------------------\n",
      "female                  0.0345      0.009      3.872      0.000       0.017       0.052\n",
      "associate_professor    -0.0047      0.009     -0.507      0.612      -0.023       0.013\n",
      "full_professor         -0.0159      0.009     -1.859      0.063      -0.033       0.001\n",
      "emeritus_professor     -0.0326      0.006     -5.122      0.000      -0.045      -0.020\n",
      "other_rank             -0.0162      0.018     -0.890      0.373      -0.052       0.019\n",
      "=======================================================================================\n"
     ]
    }
   ],
   "source": [
    "print(mfx_1.summary())"
   ]
  },
  {
   "cell_type": "code",
   "execution_count": 7,
   "metadata": {},
   "outputs": [
    {
     "name": "stdout",
     "output_type": "stream",
     "text": [
      "Optimization terminated successfully.\n",
      "         Current function value: 0.148492\n",
      "         Iterations 8\n"
     ]
    }
   ],
   "source": [
    "reg_2 = smf.probit(formula=formula_1 + ' + medical_school + stem', data=df_Tannenbaum).fit()"
   ]
  },
  {
   "cell_type": "code",
   "execution_count": 8,
   "metadata": {},
   "outputs": [
    {
     "name": "stdout",
     "output_type": "stream",
     "text": [
      "       Probit Marginal Effects       \n",
      "=====================================\n",
      "Dep. Variable:              volunteer\n",
      "Method:                          dydx\n",
      "At:                              mean\n",
      "=======================================================================================\n",
      "                         dy/dx    std err          z      P>|z|      [0.025      0.975]\n",
      "---------------------------------------------------------------------------------------\n",
      "female                  0.0337      0.009      3.871      0.000       0.017       0.051\n",
      "associate_professor    -0.0045      0.009     -0.520      0.603      -0.021       0.012\n",
      "full_professor         -0.0150      0.008     -1.851      0.064      -0.031       0.001\n",
      "emeritus_professor     -0.0301      0.006     -4.948      0.000      -0.042      -0.018\n",
      "other_rank             -0.0139      0.018     -0.768      0.442      -0.050       0.022\n",
      "medical_school          0.0401      0.012      3.390      0.001       0.017       0.063\n",
      "stem                   -0.0241      0.010     -2.362      0.018      -0.044      -0.004\n",
      "=======================================================================================\n"
     ]
    }
   ],
   "source": [
    "print(reg_2.get_margeff(method='dydx',dummy='True',at='mean').summary())"
   ]
  },
  {
   "cell_type": "code",
   "execution_count": 9,
   "metadata": {},
   "outputs": [],
   "source": [
    "table_1 = summary_col([reg_1,reg_2], stars=True, model_names=[\"Model_1\", \"Model_2\"], regressor_order=['female', 'associate_professor', 'full_professor', 'emeritus_professor', 'other_rank', 'medical_school', 'stem'])"
   ]
  },
  {
   "cell_type": "code",
   "execution_count": 18,
   "metadata": {},
   "outputs": [],
   "source": [
    "mfx_2 = reg_2.get_margeff(method='dydx',dummy='True',at='mean')"
   ]
  },
  {
   "cell_type": "code",
   "execution_count": 10,
   "metadata": {},
   "outputs": [
    {
     "name": "stdout",
     "output_type": "stream",
     "text": [
      "       Probit Marginal Effects       \n",
      "=====================================\n",
      "Dep. Variable:              volunteer\n",
      "Method:                          dydx\n",
      "At:                              mean\n",
      "=======================================================================================\n",
      "                         dy/dx    std err          z      P>|z|      [0.025      0.975]\n",
      "---------------------------------------------------------------------------------------\n",
      "female                  0.0345      0.009      3.872      0.000       0.017       0.052\n",
      "associate_professor    -0.0047      0.009     -0.507      0.612      -0.023       0.013\n",
      "full_professor         -0.0159      0.009     -1.859      0.063      -0.033       0.001\n",
      "emeritus_professor     -0.0326      0.006     -5.122      0.000      -0.045      -0.020\n",
      "other_rank             -0.0162      0.018     -0.890      0.373      -0.052       0.019\n",
      "=======================================================================================\n",
      "       Probit Marginal Effects       \n",
      "=====================================\n",
      "Dep. Variable:              volunteer\n",
      "Method:                          dydx\n",
      "At:                              mean\n",
      "=======================================================================================\n",
      "                         dy/dx    std err          z      P>|z|      [0.025      0.975]\n",
      "---------------------------------------------------------------------------------------\n",
      "female                  0.0337      0.009      3.871      0.000       0.017       0.051\n",
      "associate_professor    -0.0045      0.009     -0.520      0.603      -0.021       0.012\n",
      "full_professor         -0.0150      0.008     -1.851      0.064      -0.031       0.001\n",
      "emeritus_professor     -0.0301      0.006     -4.948      0.000      -0.042      -0.018\n",
      "other_rank             -0.0139      0.018     -0.768      0.442      -0.050       0.022\n",
      "medical_school          0.0401      0.012      3.390      0.001       0.017       0.063\n",
      "stem                   -0.0241      0.010     -2.362      0.018      -0.044      -0.004\n",
      "=======================================================================================\n"
     ]
    }
   ],
   "source": [
    "print(reg_1.get_margeff(method='dydx',dummy='True',at='mean').summary())\n",
    "print(reg_2.get_margeff(method='dydx',dummy='True',at='mean').summary())"
   ]
  },
  {
   "cell_type": "code",
   "execution_count": 83,
   "metadata": {},
   "outputs": [],
   "source": [
    "df_Experiments_1_2 = pd.read_stata('experiments1-2.dta')\n",
    "#summary_stats = df_Experiments_1_2.groupby('female')['decision'].describe()\n",
    "#df_Experiments_1_2.to_excel('experiments1-2.xlsx')\n",
    "#summary_stats.to_excel('test.xlsx')"
   ]
  },
  {
   "cell_type": "code",
   "execution_count": 84,
   "metadata": {},
   "outputs": [],
   "source": [
    "df_Experiments_1_2 = df_Experiments_1_2[df_Experiments_1_2['experiment'] == 1]"
   ]
  },
  {
   "cell_type": "code",
   "execution_count": 85,
   "metadata": {},
   "outputs": [
    {
     "name": "stdout",
     "output_type": "stream",
     "text": [
      "Optimization terminated successfully.\n",
      "         Current function value: 0.585243\n",
      "         Iterations 5\n"
     ]
    }
   ],
   "source": [
    "reg_3 = smf.probit(formula='decision ~ female + period',data=df_Experiments_1_2).fit(cov_type='cluster', cov_kwds={'groups': df_Experiments_1_2['unique_subjectid']})"
   ]
  },
  {
   "cell_type": "code",
   "execution_count": 86,
   "metadata": {},
   "outputs": [
    {
     "name": "stdout",
     "output_type": "stream",
     "text": [
      "                          Probit Regression Results                           \n",
      "==============================================================================\n",
      "Dep. Variable:               decision   No. Observations:                 1500\n",
      "Model:                         Probit   Df Residuals:                     1497\n",
      "Method:                           MLE   Df Model:                            2\n",
      "Date:                Wed, 20 Dec 2023   Pseudo R-squ.:                 0.01405\n",
      "Time:                        02:34:31   Log-Likelihood:                -877.86\n",
      "converged:                       True   LL-Null:                       -890.37\n",
      "Covariance Type:              cluster   LLR p-value:                 3.696e-06\n",
      "==============================================================================\n",
      "                 coef    std err          z      P>|z|      [0.025      0.975]\n",
      "------------------------------------------------------------------------------\n",
      "Intercept     -0.6332      0.084     -7.503      0.000      -0.799      -0.468\n",
      "female         0.3285      0.111      2.964      0.003       0.111       0.546\n",
      "period        -0.0191      0.010     -1.910      0.056      -0.039       0.000\n",
      "==============================================================================\n"
     ]
    }
   ],
   "source": [
    "print(reg_3.summary())"
   ]
  },
  {
   "cell_type": "code",
   "execution_count": 90,
   "metadata": {},
   "outputs": [],
   "source": [
    "mfx_3 = reg_3.get_margeff(method='dydx',dummy=True,count=True,at='mean')"
   ]
  },
  {
   "cell_type": "code",
   "execution_count": 91,
   "metadata": {},
   "outputs": [
    {
     "name": "stdout",
     "output_type": "stream",
     "text": [
      "       Probit Marginal Effects       \n",
      "=====================================\n",
      "Dep. Variable:               decision\n",
      "Method:                          dydx\n",
      "At:                              mean\n",
      "==============================================================================\n",
      "                dy/dx    std err          z      P>|z|      [0.025      0.975]\n",
      "------------------------------------------------------------------------------\n",
      "female         0.1108      0.037      2.957      0.003       0.037       0.184\n",
      "period        -0.0064      0.003     -1.946      0.052      -0.013    4.68e-05\n",
      "==============================================================================\n"
     ]
    }
   ],
   "source": [
    "#print(mfx_3.summary())\n",
    "print(mfx_3.summary())"
   ]
  },
  {
   "cell_type": "code",
   "execution_count": 106,
   "metadata": {},
   "outputs": [
    {
     "name": "stdout",
     "output_type": "stream",
     "text": [
      "Optimization terminated successfully.\n",
      "         Current function value: 0.599161\n",
      "         Iterations 5\n"
     ]
    }
   ],
   "source": [
    "reg_4 = smf.probit(formula='decision ~ female + period',data=df_Experiments_1_2[df_Experiments_1_2['period']<=5]).fit(cov_type='cluster', cov_kwds={'groups': df_Experiments_1_2[df_Experiments_1_2['period']<=5]['unique_subjectid']})"
   ]
  },
  {
   "cell_type": "code",
   "execution_count": 110,
   "metadata": {},
   "outputs": [],
   "source": [
    "mfx_4 = reg_4.get_margeff(method='dydx',dummy=True,count=True,at='mean')"
   ]
  },
  {
   "cell_type": "code",
   "execution_count": 111,
   "metadata": {},
   "outputs": [
    {
     "name": "stdout",
     "output_type": "stream",
     "text": [
      "       Probit Marginal Effects       \n",
      "=====================================\n",
      "Dep. Variable:               decision\n",
      "Method:                          dydx\n",
      "At:                              mean\n",
      "==============================================================================\n",
      "                dy/dx    std err          z      P>|z|      [0.025      0.975]\n",
      "------------------------------------------------------------------------------\n",
      "female         0.1066      0.038      2.779      0.005       0.031       0.182\n",
      "period        -0.0086      0.010     -0.828      0.408      -0.029       0.012\n",
      "==============================================================================\n"
     ]
    }
   ],
   "source": [
    "print(mfx_4.summary())"
   ]
  },
  {
   "cell_type": "code",
   "execution_count": 109,
   "metadata": {},
   "outputs": [
    {
     "name": "stdout",
     "output_type": "stream",
     "text": [
      "Optimization terminated successfully.\n",
      "         Current function value: 0.571200\n",
      "         Iterations 5\n"
     ]
    }
   ],
   "source": [
    "reg_5 = smf.probit(formula='decision ~ female + period',data=df_Experiments_1_2[df_Experiments_1_2['period']>5]).fit(cov_type='cluster', cov_kwds={'groups': df_Experiments_1_2[df_Experiments_1_2['period']>5]['unique_subjectid']})"
   ]
  },
  {
   "cell_type": "code",
   "execution_count": 124,
   "metadata": {},
   "outputs": [],
   "source": [
    "mfx_5 = reg_5.get_margeff(method='dydx',dummy=True,count=True,at='mean')"
   ]
  },
  {
   "cell_type": "code",
   "execution_count": 125,
   "metadata": {},
   "outputs": [
    {
     "name": "stdout",
     "output_type": "stream",
     "text": [
      "       Probit Marginal Effects       \n",
      "=====================================\n",
      "Dep. Variable:               decision\n",
      "Method:                          dydx\n",
      "At:                              mean\n",
      "==============================================================================\n",
      "                dy/dx    std err          z      P>|z|      [0.025      0.975]\n",
      "------------------------------------------------------------------------------\n",
      "female         0.1148      0.046      2.476      0.013       0.024       0.206\n",
      "period        -0.0087      0.009     -0.933      0.351      -0.027       0.010\n",
      "==============================================================================\n"
     ]
    }
   ],
   "source": [
    "print(mfx_5.summary())"
   ]
  },
  {
   "cell_type": "code",
   "execution_count": 129,
   "metadata": {},
   "outputs": [],
   "source": [
    "df_Experiments_1_2['finds_fault_rev'] = 6 - df_Experiments_1_2['finds_fault']\n",
    "df_Experiments_1_2['cold_aloof_rev'] = 6 - df_Experiments_1_2['cold_aloof']\n",
    "df_Experiments_1_2['rude_rev'] = 6 - df_Experiments_1_2['rude']\n",
    "df_Experiments_1_2['quarrels_rev'] = 6 - df_Experiments_1_2['quarrels']\n"
   ]
  },
  {
   "cell_type": "code",
   "execution_count": 130,
   "metadata": {},
   "outputs": [],
   "source": [
    "df_Experiments_1_2['agreeableness'] = (df_Experiments_1_2['finds_fault_rev'] + df_Experiments_1_2['cold_aloof_rev'] + df_Experiments_1_2['considerate_kind'] + df_Experiments_1_2['cooperate'] + df_Experiments_1_2['rude_rev'] + df_Experiments_1_2['helpful_unselfish'] + df_Experiments_1_2['quarrels_rev'] + df_Experiments_1_2['forgiving'] + df_Experiments_1_2['trusting'])/9"
   ]
  },
  {
   "cell_type": "code",
   "execution_count": 131,
   "metadata": {},
   "outputs": [],
   "source": [
    "df_Experiments_1_2['themselves_rev'] = 6 - df_Experiments_1_2['themselves']\n"
   ]
  },
  {
   "cell_type": "code",
   "execution_count": 132,
   "metadata": {},
   "outputs": [],
   "source": [
    "df_Experiments_1_2['altruism'] = (df_Experiments_1_2['less_fortunate'] + df_Experiments_1_2['themselves_rev'] + df_Experiments_1_2['community'])/3"
   ]
  },
  {
   "cell_type": "code",
   "execution_count": 133,
   "metadata": {},
   "outputs": [],
   "source": [
    "df_Experiments_1_2['non_conformity'] = (df_Experiments_1_2['taste_friends'] + df_Experiments_1_2['argue_friends'] + df_Experiments_1_2['defend_unpopular'])/3"
   ]
  },
  {
   "cell_type": "code",
   "execution_count": 139,
   "metadata": {},
   "outputs": [
    {
     "name": "stdout",
     "output_type": "stream",
     "text": [
      "Optimization terminated successfully.\n",
      "         Current function value: 0.582850\n",
      "         Iterations 5\n"
     ]
    }
   ],
   "source": [
    "reg_6 = smf.probit(formula='decision ~ female + period + non_conformity + survey_risk + altruism + agreeableness',data=df_Experiments_1_2).fit(cov_type='cluster', cov_kwds={'groups': df_Experiments_1_2['unique_subjectid']})"
   ]
  },
  {
   "cell_type": "code",
   "execution_count": 140,
   "metadata": {},
   "outputs": [],
   "source": [
    "mfx_6 = reg_6.get_margeff(method='dydx',dummy=True,count=True,at='mean')"
   ]
  },
  {
   "cell_type": "code",
   "execution_count": 141,
   "metadata": {},
   "outputs": [
    {
     "name": "stdout",
     "output_type": "stream",
     "text": [
      "       Probit Marginal Effects       \n",
      "=====================================\n",
      "Dep. Variable:               decision\n",
      "Method:                          dydx\n",
      "At:                              mean\n",
      "==================================================================================\n",
      "                    dy/dx    std err          z      P>|z|      [0.025      0.975]\n",
      "----------------------------------------------------------------------------------\n",
      "female             0.0895      0.043      2.097      0.036       0.006       0.173\n",
      "period            -0.0064      0.003     -1.958      0.050      -0.013    6.05e-06\n",
      "non_conformity    -0.0211      0.025     -0.841      0.400      -0.070       0.028\n",
      "survey_risk       -0.0183      0.020     -0.926      0.354      -0.057       0.020\n",
      "altruism           0.0227      0.026      0.883      0.377      -0.028       0.073\n",
      "agreeableness     -0.0139      0.032     -0.437      0.662      -0.076       0.049\n",
      "==================================================================================\n"
     ]
    }
   ],
   "source": [
    "print(mfx_6.summary())"
   ]
  },
  {
   "cell_type": "code",
   "execution_count": 144,
   "metadata": {},
   "outputs": [
    {
     "name": "stdout",
     "output_type": "stream",
     "text": [
      "Table 1\n",
      "       Probit Marginal Effects       \n",
      "=====================================\n",
      "Dep. Variable:              volunteer\n",
      "Method:                          dydx\n",
      "At:                              mean\n",
      "=======================================================================================\n",
      "                         dy/dx    std err          z      P>|z|      [0.025      0.975]\n",
      "---------------------------------------------------------------------------------------\n",
      "female                  0.0345      0.009      3.872      0.000       0.017       0.052\n",
      "associate_professor    -0.0047      0.009     -0.507      0.612      -0.023       0.013\n",
      "full_professor         -0.0159      0.009     -1.859      0.063      -0.033       0.001\n",
      "emeritus_professor     -0.0326      0.006     -5.122      0.000      -0.045      -0.020\n",
      "other_rank             -0.0162      0.018     -0.890      0.373      -0.052       0.019\n",
      "=======================================================================================\n",
      "       Probit Marginal Effects       \n",
      "=====================================\n",
      "Dep. Variable:              volunteer\n",
      "Method:                          dydx\n",
      "At:                              mean\n",
      "=======================================================================================\n",
      "                         dy/dx    std err          z      P>|z|      [0.025      0.975]\n",
      "---------------------------------------------------------------------------------------\n",
      "female                  0.0337      0.009      3.871      0.000       0.017       0.051\n",
      "associate_professor    -0.0045      0.009     -0.520      0.603      -0.021       0.012\n",
      "full_professor         -0.0150      0.008     -1.851      0.064      -0.031       0.001\n",
      "emeritus_professor     -0.0301      0.006     -4.948      0.000      -0.042      -0.018\n",
      "other_rank             -0.0139      0.018     -0.768      0.442      -0.050       0.022\n",
      "medical_school          0.0401      0.012      3.390      0.001       0.017       0.063\n",
      "stem                   -0.0241      0.010     -2.362      0.018      -0.044      -0.004\n",
      "=======================================================================================\n"
     ]
    }
   ],
   "source": [
    "print('Table 1')\n",
    "print(mfx_1.summary())\n",
    "print(mfx_2.summary())"
   ]
  },
  {
   "cell_type": "code",
   "execution_count": 143,
   "metadata": {},
   "outputs": [
    {
     "name": "stdout",
     "output_type": "stream",
     "text": [
      "Table 2\n",
      "       Probit Marginal Effects       \n",
      "=====================================\n",
      "Dep. Variable:               decision\n",
      "Method:                          dydx\n",
      "At:                              mean\n",
      "==============================================================================\n",
      "                dy/dx    std err          z      P>|z|      [0.025      0.975]\n",
      "------------------------------------------------------------------------------\n",
      "female         0.1108      0.037      2.957      0.003       0.037       0.184\n",
      "period        -0.0064      0.003     -1.946      0.052      -0.013    4.68e-05\n",
      "==============================================================================\n",
      "       Probit Marginal Effects       \n",
      "=====================================\n",
      "Dep. Variable:               decision\n",
      "Method:                          dydx\n",
      "At:                              mean\n",
      "==============================================================================\n",
      "                dy/dx    std err          z      P>|z|      [0.025      0.975]\n",
      "------------------------------------------------------------------------------\n",
      "female         0.1066      0.038      2.779      0.005       0.031       0.182\n",
      "period        -0.0086      0.010     -0.828      0.408      -0.029       0.012\n",
      "==============================================================================\n",
      "       Probit Marginal Effects       \n",
      "=====================================\n",
      "Dep. Variable:               decision\n",
      "Method:                          dydx\n",
      "At:                              mean\n",
      "==============================================================================\n",
      "                dy/dx    std err          z      P>|z|      [0.025      0.975]\n",
      "------------------------------------------------------------------------------\n",
      "female         0.1148      0.046      2.476      0.013       0.024       0.206\n",
      "period        -0.0087      0.009     -0.933      0.351      -0.027       0.010\n",
      "==============================================================================\n",
      "       Probit Marginal Effects       \n",
      "=====================================\n",
      "Dep. Variable:               decision\n",
      "Method:                          dydx\n",
      "At:                              mean\n",
      "==================================================================================\n",
      "                    dy/dx    std err          z      P>|z|      [0.025      0.975]\n",
      "----------------------------------------------------------------------------------\n",
      "female             0.0895      0.043      2.097      0.036       0.006       0.173\n",
      "period            -0.0064      0.003     -1.958      0.050      -0.013    6.05e-06\n",
      "non_conformity    -0.0211      0.025     -0.841      0.400      -0.070       0.028\n",
      "survey_risk       -0.0183      0.020     -0.926      0.354      -0.057       0.020\n",
      "altruism           0.0227      0.026      0.883      0.377      -0.028       0.073\n",
      "agreeableness     -0.0139      0.032     -0.437      0.662      -0.076       0.049\n",
      "==================================================================================\n"
     ]
    }
   ],
   "source": [
    "print('Table 2')\n",
    "print(mfx_3.summary())\n",
    "print(mfx_4.summary())\n",
    "print(mfx_5.summary())\n",
    "print(mfx_6.summary())"
   ]
  },
  {
   "cell_type": "code",
   "execution_count": null,
   "metadata": {},
   "outputs": [],
   "source": []
  }
 ],
 "metadata": {
  "kernelspec": {
   "display_name": "base",
   "language": "python",
   "name": "python3"
  },
  "language_info": {
   "codemirror_mode": {
    "name": "ipython",
    "version": 3
   },
   "file_extension": ".py",
   "mimetype": "text/x-python",
   "name": "python",
   "nbconvert_exporter": "python",
   "pygments_lexer": "ipython3",
   "version": "3.9.15"
  }
 },
 "nbformat": 4,
 "nbformat_minor": 2
}
