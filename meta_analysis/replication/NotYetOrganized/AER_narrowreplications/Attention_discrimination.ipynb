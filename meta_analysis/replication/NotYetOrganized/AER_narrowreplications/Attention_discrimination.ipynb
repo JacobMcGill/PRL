{
 "cells": [
  {
   "attachments": {},
   "cell_type": "markdown",
   "metadata": {},
   "source": [
    "Loading data"
   ]
  },
  {
   "cell_type": "code",
   "execution_count": null,
   "metadata": {},
   "outputs": [],
   "source": [
    "#load data - czech rental market\n",
    "\n",
    "import pandas as pd\n",
    "\n",
    "df = pd.read_stata('Czech_rental_market.dta', convert_categoricals=False)\n",
    "df.columns"
   ]
  },
  {
   "cell_type": "code",
   "execution_count": null,
   "metadata": {},
   "outputs": [],
   "source": [
    "df2 = pd.read_stata('Czech_labor_market.dta', convert_categoricals=False)\n",
    "df2.columns"
   ]
  },
  {
   "cell_type": "code",
   "execution_count": null,
   "metadata": {},
   "outputs": [],
   "source": [
    "df3 = pd.read_stata('German_labor_market.dta', convert_categoricals=False)\n",
    "df3.columns"
   ]
  },
  {
   "attachments": {},
   "cell_type": "markdown",
   "metadata": {},
   "source": [
    "Table 1: CZECH RENTAL HOUSING MARKET Ð INVITATION RATES AND INFORMATION ACQUISITION BY ETHNICITY, COMPARISON OF MEANS"
   ]
  },
  {
   "cell_type": "code",
   "execution_count": null,
   "metadata": {},
   "outputs": [],
   "source": [
    "from scipy.stats import ttest_ind\n",
    "#Testing the ttest function\n",
    "noinfo = df.loc[df['noinfo'] == 1]\n",
    "ttest_ind(noinfo.loc[noinfo['roma']==0, 'response'], noinfo.loc[noinfo['roma']==0, 'minority'])\n"
   ]
  },
  {
   "cell_type": "code",
   "execution_count": null,
   "metadata": {},
   "outputs": [],
   "source": [
    "#Panel A\n",
    "noinfo = df.loc[df['noinfo'] == 1]\n",
    "tab1_1 = ttest_ind(noinfo['response'], noinfo['minority'])\n",
    "tab1_2 = ttest_ind(noinfo.loc[noinfo['roma']==0, 'response'], noinfo.loc[noinfo['roma']==0, 'minority'])\n",
    "tab1_3 = ttest_ind(noinfo.loc[noinfo['roma']==0, 'response'], noinfo.loc[noinfo['asian']==0, 'minority'])\n",
    "tab1_4 = ttest_ind(noinfo.loc[noinfo['minority']==1, 'response'], noinfo.loc[noinfo['minority']==1, 'roma'])\n",
    "\n",
    "moninfo = df.loc[df['monitoredinfo'] == 1]\n",
    "tab1_5 = ttest_ind(moninfo['response'], moninfo['minority'])\n",
    "tab1_6 = ttest_ind(moninfo.loc[moninfo['roma']==0, 'response'], moninfo.loc[moninfo['roma']==0, 'minority'])\n",
    "tab1_7 = ttest_ind(moninfo.loc[moninfo['roma']==0, 'response'], moninfo.loc[moninfo['asian']==0, 'minority'])\n",
    "tab1_8 = ttest_ind(moninfo.loc[moninfo['minority']==1, 'response'], moninfo.loc[moninfo['minority']==1, 'roma'])\n",
    "\n",
    "moninfo2 = df.loc[(df['monitoredinfo']) == 1 & (df['click0']==1)]\n",
    "tab1_9 = ttest_ind(moninfo2['response'], moninfo2['minority'])\n",
    "tab1_10 = ttest_ind(moninfo2.loc[moninfo2['roma']==0, 'response'], moninfo2.loc[moninfo2['roma']==0, 'minority'])\n",
    "tab1_11 = ttest_ind(moninfo2.loc[moninfo2['roma']==0, 'response'], moninfo2.loc[moninfo2['asian']==0, 'minority'])\n",
    "tab1_12 = ttest_ind(moninfo2.loc[moninfo2['minority']==1, 'response'], moninfo2.loc[moninfo2['minority']==1, 'roma'])\n",
    "\n",
    "moninfo3 = df.loc[(df['monitoredinfo'] == 1) & (df['click0']==0)]\n",
    "tab1_13 = ttest_ind(moninfo3['response'], moninfo3['minority'])\n",
    "tab1_14 = ttest_ind(moninfo3.loc[moninfo3['roma']==0, 'response'], moninfo3.loc[moninfo3['roma']==0, 'minority'])\n",
    "tab1_15 = ttest_ind(moninfo3.loc[moninfo3['roma']==0, 'response'], moninfo3.loc[moninfo3['asian']==0, 'minority'])\n",
    "tab1_16 = ttest_ind(moninfo3.loc[moninfo3['minority']==1, 'response'], moninfo3.loc[moninfo3['minority']==1, 'roma'])\n",
    "\n",
    "emailinfo = df.loc[df['emailinfo'] == 1]\n",
    "tab1_17 = ttest_ind(emailinfo['response'], emailinfo['minority'])\n",
    "tab1_18 = ttest_ind(emailinfo.loc[emailinfo['roma']==0, 'response'], emailinfo.loc[emailinfo['roma']==0, 'minority'])\n",
    "tab1_19 = ttest_ind(emailinfo.loc[emailinfo['roma']==0, 'response'], emailinfo.loc[emailinfo['asian']==0, 'minority'])\n",
    "tab1_20 = ttest_ind(emailinfo.loc[emailinfo['minority']==1, 'response'], emailinfo.loc[emailinfo['minority']==1, 'roma'])\n",
    "\n"
   ]
  },
  {
   "cell_type": "code",
   "execution_count": null,
   "metadata": {},
   "outputs": [],
   "source": [
    "#Panel B\n",
    "tab2_1 = ttest_ind(moninfo['click0'], moninfo['minority'])\n",
    "tab2_2 = ttest_ind(moninfo.loc[moninfo['roma']==0, 'click0'], moninfo.loc[moninfo['roma']==0, 'minority'])\n",
    "tab2_3 = ttest_ind(moninfo.loc[moninfo['roma']==0, 'click0'], moninfo.loc[moninfo['asian']==0, 'minority'])\n",
    "tab2_4 = ttest_ind(moninfo.loc[moninfo['minority']==1, 'click0'], moninfo.loc[moninfo['minority']==1, 'roma'])\n",
    "\n",
    "tab2_5 = ttest_ind(moninfo['infovisited_monitoredinfo'], moninfo['minority'])\n",
    "tab2_6 = ttest_ind(moninfo.loc[moninfo['roma']==0, 'infovisited_monitoredinfo'], moninfo.loc[moninfo['roma']==0, 'minority'])\n",
    "tab2_7 = ttest_ind(moninfo.loc[moninfo['roma']==0, 'infovisited_monitoredinfo'], moninfo.loc[moninfo['asian']==0, 'minority'])\n",
    "tab2_8 = ttest_ind(moninfo.loc[moninfo['minority']==1, 'infovisited_monitoredinfo'], moninfo.loc[moninfo['minority']==1, 'roma'])\n",
    "\n",
    "tab2_9 = ttest_ind(moninfo['objects_any'], moninfo['minority'])\n",
    "tab2_10 = ttest_ind(moninfo.loc[moninfo['roma']==0, 'objects_any'], moninfo.loc[moninfo['roma']==0, 'minority'])\n",
    "tab2_11 = ttest_ind(moninfo.loc[moninfo['roma']==0, 'objects_any'], moninfo.loc[moninfo['asian']==0, 'minority'])\n",
    "tab2_12 = ttest_ind(moninfo.loc[moninfo['minority']==1, 'objects_any'], moninfo.loc[moninfo['minority']==1, 'roma'])\n",
    "\n",
    "tab2_13 = ttest_ind(moninfo['objects_all'], moninfo['minority'])\n",
    "tab2_14 = ttest_ind(moninfo.loc[moninfo['roma']==0, 'objects_all'], moninfo.loc[moninfo['roma']==0, 'minority'])\n",
    "tab2_15 = ttest_ind(moninfo.loc[moninfo['roma']==0, 'objects_all'], moninfo.loc[moninfo['asian']==0, 'minority'])\n",
    "tab2_16 = ttest_ind(moninfo.loc[moninfo['minority']==1, 'objects_all'], moninfo.loc[moninfo['minority']==1, 'roma'])\n",
    "\n",
    "tab2_17 = ttest_ind(moninfo2['infovisited'], moninfo2['minority'])\n",
    "tab2_18 = ttest_ind(moninfo2.loc[moninfo2['roma']==0, 'infovisited'], moninfo2.loc[moninfo2['roma']==0, 'minority'])\n",
    "tab2_19 = ttest_ind(moninfo2.loc[moninfo2['roma']==0, 'infovisited'], moninfo2.loc[moninfo2['asian']==0, 'minority'])\n",
    "tab2_20 = ttest_ind(moninfo2.loc[moninfo2['minority']==1, 'infovisited'], moninfo2.loc[moninfo2['minority']==1, 'roma'])\n",
    "\n",
    "tab2_21 = ttest_ind(moninfo2['objects_any'], moninfo2['minority'])\n",
    "tab2_22 = ttest_ind(moninfo2.loc[moninfo2['roma']==0, 'objects_any'], moninfo2.loc[moninfo2['roma']==0, 'minority'])\n",
    "tab2_23 = ttest_ind(moninfo2.loc[moninfo2['roma']==0, 'objects_any'], moninfo2.loc[moninfo2['asian']==0, 'minority'])\n",
    "tab2_24 = ttest_ind(moninfo2.loc[moninfo2['minority']==1, 'objects_any'], moninfo2.loc[moninfo2['minority']==1, 'roma'])\n",
    "\n",
    "tab2_25 = ttest_ind(moninfo2['objects_all'], moninfo2['minority'])\n",
    "tab2_26 = ttest_ind(moninfo2.loc[moninfo2['roma']==0, 'objects_all'], moninfo2.loc[moninfo2['roma']==0, 'minority'])\n",
    "tab2_27 = ttest_ind(moninfo2.loc[moninfo2['roma']==0, 'objects_all'], moninfo2.loc[moninfo2['asian']==0, 'minority'])\n",
    "tab2_28 = ttest_ind(moninfo2.loc[moninfo2['minority']==1, 'objects_all'], moninfo2.loc[moninfo2['minority']==1, 'roma'])\n"
   ]
  },
  {
   "attachments": {},
   "cell_type": "markdown",
   "metadata": {},
   "source": [
    "Table 2: CZECH RENTAL HOUSING MARKET Ð INVITATION RATES BY ETHNICITY, REGRESSION ANALYSIS"
   ]
  },
  {
   "attachments": {},
   "cell_type": "markdown",
   "metadata": {},
   "source": [
    "Panel A"
   ]
  },
  {
   "cell_type": "code",
   "execution_count": null,
   "metadata": {},
   "outputs": [],
   "source": [
    "crhm_df1 = pd.get_dummies(noinfo[['response', 'minority', 'll_fem', 'll_unknown', 'apt_size_h', 'apt_price_t', 'apt_equip']])\n",
    "crhm_df1_vars = crhm_df1.columns.values.tolist()\n",
    "Y = 'response'\n",
    "y= crhm_df1[Y]\n",
    "cols= [i for i in crhm_df1_vars if i not in Y]\n",
    "X = crhm_df1[cols]\n",
    "\n",
    "import statsmodels.api as smf\n",
    "probit_model=smf.Probit(y,X)\n",
    "result=probit_model.fit()\n",
    "print(result.summary2())"
   ]
  },
  {
   "cell_type": "code",
   "execution_count": null,
   "metadata": {},
   "outputs": [],
   "source": [
    "crhm_df2 = pd.get_dummies(noinfo[['response', 'asian', 'roma', 'll_fem', 'll_unknown', 'apt_size_h', 'apt_price_t', 'apt_equip']])\n",
    "crhm_df2_vars = crhm_df2.columns.values.tolist()\n",
    "Y = 'response'\n",
    "y= crhm_df2[Y]\n",
    "cols= [i for i in crhm_df2_vars if i not in Y]\n",
    "X = crhm_df2[cols]\n",
    "\n",
    "probit_model=smf.Probit(y,X)\n",
    "result=probit_model.fit()\n",
    "print(result.summary2())"
   ]
  },
  {
   "cell_type": "code",
   "execution_count": null,
   "metadata": {},
   "outputs": [],
   "source": [
    "\n",
    "\"\"\"xi: dprobit response minority i.minority*monitoredinfo i.minority*hs_emailinfo i.minority*uni_emailinfo  ll_fem ll_unknown apt_size_h apt_price_t apt_equip, robust\n",
    "outreg2 using discrimination.out, symbol(***, **, *)  dec(2)   append excel\"\"\""
   ]
  },
  {
   "cell_type": "code",
   "execution_count": null,
   "metadata": {},
   "outputs": [],
   "source": [
    "nomin = df.loc[df['minority'] == 0]\n",
    "crhm_df4 = nomin[['response', 'minority', 'monitoredinfo', 'hs_emailinfo', 'uni_emailinfo', 'll_fem', 'll_unknown', 'apt_size_h', 'apt_price_t', 'apt_equip']]\n",
    "crhm_df4_vars = crhm_df4.columns.values.tolist()\n",
    "Y = 'response'\n",
    "y= crhm_df4[Y]\n",
    "cols= [i for i in crhm_df4_vars if i not in Y]\n",
    "X = crhm_df4[cols]\n",
    "\n",
    "probit_model=smf.Probit(y,X)\n",
    "result=probit_model.fit()\n",
    "print(result.summary2())\n",
    "\n",
    "\"\"\"xi: dprobit response minority monitoredinfo hs_emailinfo uni_emailinfo  ll_fem ll_unknown apt_size_h apt_price_t apt_equip if minority==0, robust\n",
    "outreg2 using discrimination.out, symbol(***, **, *)  dec(2)   append excel\"\"\"\n"
   ]
  },
  {
   "cell_type": "code",
   "execution_count": null,
   "metadata": {},
   "outputs": [],
   "source": [
    "min = df.loc[df['minority'] == 1]\n",
    "crhm_df5 = pd.get_dummies(min[['response', 'minority', 'monitoredinfo', 'hs_emailinfo', 'uni_emailinfo', 'll_fem', 'll_unknown', 'apt_size_h', 'apt_price_t', 'apt_equip']])\n",
    "crhm_df5_vars = crhm_df5.columns.values.tolist()\n",
    "Y = 'response'\n",
    "y= crhm_df5[Y]\n",
    "cols= [i for i in crhm_df5_vars if i not in Y]\n",
    "X = crhm_df5[cols]\n",
    "\n",
    "probit_model=smf.Probit(y,X)\n",
    "result=probit_model.fit()\n",
    "print(result.summary2())\n",
    "\"\"\"xi: dprobit response minority monitoredinfo hs_emailinfo uni_emailinfo  ll_fem ll_unknown apt_size_h apt_price_t apt_equip if minority==1, robust\n",
    "outreg2 using discrimination.out, symbol(***, **, *)  dec(2)   append excel\"\"\""
   ]
  },
  {
   "attachments": {},
   "cell_type": "markdown",
   "metadata": {},
   "source": [
    "Panel B"
   ]
  },
  {
   "cell_type": "code",
   "execution_count": null,
   "metadata": {},
   "outputs": [],
   "source": [
    "crhm_df6 = pd.get_dummies(moninfo[['response', 'minority', 'll_fem', 'll_unknown', 'apt_size_h', 'apt_price_t', 'apt_equip']])\n",
    "crhm_df6_vars = crhm_df6.columns.values.tolist()\n",
    "Y = 'response'\n",
    "y= crhm_df6[Y]\n",
    "cols= [i for i in crhm_df6_vars if i not in Y]\n",
    "X = crhm_df6[cols]\n",
    "\n",
    "probit_model=smf.Probit(y,X)\n",
    "result=probit_model.fit()\n",
    "print(result.summary2())\n",
    "\n",
    "\"\"\"xi: dprobit response minority ll_fem ll_unknown apt_size_h apt_price_t apt_equip if monitoredinfo==1, robust\n",
    "outreg2 using discrimination.out, symbol(***, **, *)  dec(2)   replace excel\"\"\""
   ]
  },
  {
   "cell_type": "code",
   "execution_count": null,
   "metadata": {},
   "outputs": [],
   "source": [
    "crhm_df7 = pd.get_dummies(moninfo[['response', 'minority', 'click0', 'll_fem', 'll_unknown', 'apt_size_h', 'apt_price_t', 'apt_equip']])\n",
    "crhm_df7_vars = crhm_df7.columns.values.tolist()\n",
    "Y = 'response'\n",
    "y= crhm_df7[Y]\n",
    "cols= [i for i in crhm_df7_vars if i not in Y]\n",
    "X = crhm_df7[cols]\n",
    "\n",
    "probit_model=smf.Probit(y,X)\n",
    "result=probit_model.fit()\n",
    "print(result.summary2())\n",
    "\n",
    "\"\"\"xi: dprobit response minority click0 ll_fem ll_unknown apt_size_h apt_price_t apt_equip if monitoredinfo==1, robust\n",
    "outreg2 using discrimination.out, symbol(***, **, *)  dec(2)   append excel\"\"\""
   ]
  },
  {
   "cell_type": "code",
   "execution_count": null,
   "metadata": {},
   "outputs": [],
   "source": [
    "\n",
    "\"\"\"xi: dprobit response i.minority*click0  ll_fem ll_unknown apt_size_h apt_price_t apt_equip if monitoredinfo==1, robust\n",
    "outreg2 using discrimination.out, symbol(***, **, *)  dec(2)   append excel\"\"\"\n"
   ]
  },
  {
   "cell_type": "code",
   "execution_count": null,
   "metadata": {},
   "outputs": [],
   "source": [
    "crhm_df9 = pd.get_dummies(moninfo2[['response', 'minority', 'll_fem', 'll_unknown', 'apt_size_h', 'apt_price_t', 'apt_equip']])\n",
    "crhm_df9_vars = crhm_df9.columns.values.tolist()\n",
    "Y = 'response'\n",
    "y= crhm_df9[Y]\n",
    "cols= [i for i in crhm_df9_vars if i not in Y]\n",
    "X = crhm_df9[cols]\n",
    "\n",
    "probit_model=smf.Probit(y,X)\n",
    "result=probit_model.fit()\n",
    "print(result.summary2())\n",
    "\n",
    "\"\"\"xi: dprobit response minority  ll_fem ll_unknown apt_size_h apt_price_t apt_equip if monitoredinfo==1 & click0==1, robust\n",
    "outreg2 using discrimination.out, symbol(***, **, *)  dec(2)   append excel\"\"\""
   ]
  },
  {
   "cell_type": "code",
   "execution_count": null,
   "metadata": {},
   "outputs": [],
   "source": [
    "crhm_df10 = pd.get_dummies(moninfo3[['response', 'minority', 'll_fem', 'll_unknown', 'apt_size_h', 'apt_price_t', 'apt_equip']])\n",
    "crhm_df10_vars = crhm_df10.columns.values.tolist()\n",
    "Y = 'response'\n",
    "y= crhm_df10[Y]\n",
    "cols= [i for i in crhm_df10_vars if i not in Y]\n",
    "X = crhm_df10[cols]\n",
    "\n",
    "probit_model=smf.Probit(y,X)\n",
    "result=probit_model.fit()\n",
    "print(result.summary2())\n",
    "\"\"\"xi: dprobit response minority  ll_fem ll_unknown apt_size_h apt_price_t apt_equip if monitoredinfo==1 & click0==0, robust\n",
    "outreg2 using discrimination.out, symbol(***, **, *)  dec(2)   append excel\"\"\""
   ]
  },
  {
   "attachments": {},
   "cell_type": "markdown",
   "metadata": {},
   "source": [
    "Table 3: CZECH RENTAL HOUSING MARKET Ð INFORMATION ACQUISITION BY ETHNICITY, REGRESSION ANALYSIS"
   ]
  },
  {
   "cell_type": "code",
   "execution_count": null,
   "metadata": {},
   "outputs": [],
   "source": [
    "crhm_df11 = pd.get_dummies(moninfo[['click0', 'minority', 'll_fem', 'll_unknown', 'apt_size_h', 'apt_price_t', 'apt_equip']])\n",
    "crhm_df11_vars = crhm_df11.columns.values.tolist()\n",
    "Y = 'click0'\n",
    "y= crhm_df11[Y]\n",
    "cols= [i for i in crhm_df11_vars if i not in Y]\n",
    "X = crhm_df11[cols]\n",
    "\n",
    "probit_model=smf.Probit(y,X)\n",
    "result=probit_model.fit()\n",
    "print(result.summary2())\n",
    "\n",
    "\"\"\"dprobit click0 minority ll_fem ll_unknown apt_size_h apt_price_t apt_equip if monitoredinfo==1, robust\n",
    "outreg2 using discrimination.out, symbol(***, **, *)  se bdec(2) sdec(2)   replace excel\"\"\""
   ]
  },
  {
   "cell_type": "code",
   "execution_count": null,
   "metadata": {},
   "outputs": [],
   "source": [
    "crhm_df12 = pd.get_dummies(moninfo[['click0', 'asian', 'roma', 'll_fem', 'll_unknown', 'apt_size_h', 'apt_price_t', 'apt_equip']])\n",
    "crhm_df12_vars = crhm_df12.columns.values.tolist()\n",
    "Y = 'click0'\n",
    "y= crhm_df12[Y]\n",
    "cols= [i for i in crhm_df12_vars if i not in Y]\n",
    "X = crhm_df12[cols]\n",
    "\n",
    "probit_model=smf.Probit(y,X)\n",
    "result=probit_model.fit()\n",
    "print(result.summary2())\n",
    "\n",
    "\"\"\"dprobit click0 asian roma ll_fem ll_unknown apt_size_h apt_price_t apt_equip if monitoredinfo==1, robust\n",
    "outreg2 using discrimination.out, symbol(***, **, *)  se bdec(2) sdec(2)   append excel\"\"\""
   ]
  },
  {
   "cell_type": "code",
   "execution_count": null,
   "metadata": {},
   "outputs": [],
   "source": [
    "crhm_df13 = pd.get_dummies(moninfo[['infovisited_monitoredinfo', 'minority', 'll_fem', 'll_unknown', 'apt_size_h', 'apt_price_t', 'apt_equip']])\n",
    "crhm_df13_vars = crhm_df13.columns.values.tolist()\n",
    "Y = 'infovisited_monitoredinfo'\n",
    "y= crhm_df13[Y]\n",
    "cols= [i for i in crhm_df13_vars if i not in Y]\n",
    "X = crhm_df13[cols]\n",
    "\n",
    "lin_model=smf.OLS(y,X)\n",
    "result=lin_model.fit()\n",
    "print(result.summary2())\n",
    "\n",
    "#may need to look into robust linear regression: https://www.statsmodels.org/stable/rlm.html\n",
    "\n",
    "\"\"\"regress infovisited_monitoredinfo minority ll_fem ll_unknown apt_size_h apt_price_t apt_equip if monitoredinfo==1, robust\n",
    "outreg2 using discrimination.out, symbol(***, **, *)  se bdec(2) sdec(2)   append excel\"\"\""
   ]
  },
  {
   "cell_type": "code",
   "execution_count": null,
   "metadata": {},
   "outputs": [],
   "source": [
    "crhm_df14 = pd.get_dummies(moninfo[['infovisited_monitoredinfo', 'asian', 'roma', 'll_fem', 'll_unknown', 'apt_size_h', 'apt_price_t', 'apt_equip']])\n",
    "crhm_df14_vars = crhm_df14.columns.values.tolist()\n",
    "Y = 'infovisited_monitoredinfo'\n",
    "y= crhm_df14[Y]\n",
    "cols= [i for i in crhm_df14_vars if i not in Y]\n",
    "X = crhm_df14[cols]\n",
    "\n",
    "lin_model=smf.OLS(y,X)\n",
    "result=lin_model.fit()\n",
    "print(result.summary2())\n",
    "\n",
    "\"\"\"regress infovisited_monitoredinfo asian roma ll_fem ll_unknown apt_size_h apt_price_t apt_equip if monitoredinfo==1, robust\n",
    "outreg2 using discrimination.out, symbol(***, **, *)  se bdec(2) sdec(2)   append excel\"\"\""
   ]
  },
  {
   "cell_type": "code",
   "execution_count": null,
   "metadata": {},
   "outputs": [],
   "source": [
    "click = df.loc[df[\"click0\"] == 1]\n",
    "crhm_df15 = pd.get_dummies(click[['edu_job', 'minority', 'll_fem', 'll_unknown', 'apt_size_h', 'apt_price_t', 'apt_equip']])\n",
    "crhm_df15_vars = crhm_df15.columns.values.tolist()\n",
    "Y = 'edu_job'\n",
    "y= crhm_df15[Y]\n",
    "cols= [i for i in crhm_df15_vars if i not in Y]\n",
    "X = crhm_df15[cols]\n",
    "\n",
    "lin_model=smf.OLS(y,X)\n",
    "result=lin_model.fit()\n",
    "print(result.summary2())\n",
    "\n",
    "\"\"\"regress edu_job  minority ll_fem ll_unknown apt_size_h apt_price_t apt_equip if click0==1, robust\n",
    "outreg2 using discrimination.out, symbol(***, **, *)  se bdec(2) sdec(2)   append excel\"\"\""
   ]
  },
  {
   "cell_type": "code",
   "execution_count": null,
   "metadata": {},
   "outputs": [],
   "source": [
    "crhm_df16 = pd.get_dummies(click[['edu_job', 'asian', 'roma', 'll_fem', 'll_unknown', 'apt_size_h', 'apt_price_t', 'apt_equip']])\n",
    "crhm_df16_vars = crhm_df16.columns.values.tolist()\n",
    "Y = 'edu_job'\n",
    "y= crhm_df16[Y]\n",
    "cols= [i for i in crhm_df16_vars if i not in Y]\n",
    "X = crhm_df16[cols]\n",
    "\n",
    "lin_model=smf.OLS(y,X)\n",
    "result=lin_model.fit()\n",
    "print(result.summary2())\n",
    "\n",
    "\"\"\"regress edu_job  asian roma ll_fem ll_unknown apt_size_h apt_price_t apt_equip if click0==1, robust\n",
    "outreg2 using discrimination.out, symbol(***, **, *)  se bdec(2) sdec(2)   append excel\"\"\""
   ]
  },
  {
   "cell_type": "code",
   "execution_count": null,
   "metadata": {},
   "outputs": [],
   "source": [
    "crhm_df17 = pd.get_dummies(click[['personal', 'minority', 'll_fem', 'll_unknown', 'apt_size_h', 'apt_price_t', 'apt_equip']])\n",
    "crhm_df17_vars = crhm_df17.columns.values.tolist()\n",
    "Y = 'personal'\n",
    "y= crhm_df17[Y]\n",
    "cols= [i for i in crhm_df17_vars if i not in Y]\n",
    "X = crhm_df17[cols]\n",
    "\n",
    "lin_model=smf.OLS(y,X)\n",
    "result=lin_model.fit()\n",
    "print(result.summary2())\n",
    "\n",
    "\"\"\"regress personal  minority ll_fem ll_unknown apt_size_h apt_price_t apt_equip if click0==1, robust\n",
    "outreg2 using discrimination.out, symbol(***, **, *)  se bdec(2) sdec(2)   append excel\"\"\""
   ]
  },
  {
   "cell_type": "code",
   "execution_count": null,
   "metadata": {},
   "outputs": [],
   "source": [
    "crhm_df18 = pd.get_dummies(click[['personal', 'asian', 'roma', 'll_fem', 'll_unknown', 'apt_size_h', 'apt_price_t', 'apt_equip']])\n",
    "crhm_df18_vars = crhm_df18.columns.values.tolist()\n",
    "Y = 'personal'\n",
    "y= crhm_df18[Y]\n",
    "cols= [i for i in crhm_df18_vars if i not in Y]\n",
    "X = crhm_df18[cols]\n",
    "\n",
    "lin_model=smf.OLS(y,X)\n",
    "result=lin_model.fit()\n",
    "print(result.summary2())\n",
    "\n",
    "\"\"\"regress personal  asian roma ll_fem ll_unknown apt_size_h apt_price_t apt_equip if click0==1, robust\n",
    "outreg2 using discrimination.out, symbol(***, **, *)  se bdec(2) sdec(2)   append excel\"\"\""
   ]
  },
  {
   "attachments": {},
   "cell_type": "markdown",
   "metadata": {},
   "source": [
    "Table 4: CZECH LABOR MARKET Ð INVITATION RATES AND INFORMATION ACQUISITION BY ETHNICITY, COMPARISON OF MEANS"
   ]
  },
  {
   "attachments": {},
   "cell_type": "markdown",
   "metadata": {},
   "source": [
    "Panel A"
   ]
  },
  {
   "cell_type": "code",
   "execution_count": null,
   "metadata": {},
   "outputs": [],
   "source": [
    "tab4_1 = ttest_ind(df2['callback'], df2['minority'])\n",
    "tab4_2 = ttest_ind(df2.loc[df2['roma']==0, 'callback'], df2.loc[df2['roma']==0, 'minority'])\n",
    "tab4_3 = ttest_ind(df2.loc[df2['roma']==0, 'callback'], df2.loc[df2['asian']==0, 'minority'])\n",
    "tab4_4 = ttest_ind(df2.loc[df2['minority']==1, 'callback'], df2.loc[df2['minority']==1, 'roma'])\n",
    "\n",
    "tab4_5 = ttest_ind(df2['positive'], df2['minority'])\n",
    "tab4_6 = ttest_ind(df2.loc[df2['roma']==0, 'positive'], df2.loc[df2['roma']==0, 'minority'])\n",
    "tab4_7 = ttest_ind(df2.loc[df2['roma']==0, 'positive'], df2.loc[df2['asian']==0, 'minority'])\n",
    "tab4_8 = ttest_ind(df2.loc[df2['minority']==1, 'positive'], df2.loc[df2['minority']==1, 'roma'])\n",
    "\n",
    "pgvst = df2.loc[df2['pagevisit'] == 1]\n",
    "tab4_9 = ttest_ind(pgvst['positive'], pgvst['minority'])\n",
    "tab4_10 = ttest_ind(pgvst.loc[pgvst['roma']==0, 'positive'], pgvst.loc[pgvst['roma']==0, 'minority'])\n",
    "tab4_11 = ttest_ind(pgvst.loc[pgvst['roma']==0, 'positive'], pgvst.loc[pgvst['asian']==0, 'minority'])\n",
    "tab4_12 = ttest_ind(pgvst.loc[pgvst['minority']==1, 'positive'], pgvst.loc[pgvst['minority']==1, 'roma'])"
   ]
  },
  {
   "attachments": {},
   "cell_type": "markdown",
   "metadata": {},
   "source": [
    "Panel B"
   ]
  },
  {
   "cell_type": "code",
   "execution_count": null,
   "metadata": {},
   "outputs": [],
   "source": [
    "tab4_13 = ttest_ind(df2['pagevisit'], df2['minority'])\n",
    "tab4_14 = ttest_ind(df2.loc[df2['roma']==0, 'pagevisit'], df2.loc[df2['roma']==0, 'minority'])\n",
    "tab4_15 = ttest_ind(df2.loc[df2['roma']==0, 'pagevisit'], df2.loc[df2['asian']==0, 'minority'])\n",
    "tab4_16 = ttest_ind(df2.loc[df2['minority']==1, 'pagevisit'], df2.loc[df2['minority']==1, 'roma'])\n",
    "\n",
    "tab4_17 = ttest_ind(df2['mouse_workskills_d'], df2['minority'])\n",
    "tab4_18 = ttest_ind(df2.loc[df2['roma']==0, 'mouse_workskills_d'], df2.loc[df2['roma']==0, 'minority'])\n",
    "tab4_19 = ttest_ind(df2.loc[df2['roma']==0, 'mouse_workskills_d'], df2.loc[df2['asian']==0, 'minority'])\n",
    "tab4_20 = ttest_ind(df2.loc[df2['minority']==1, 'mouse_workskills_d'], df2.loc[df2['minority']==1, 'roma'])\n",
    "\n",
    "tab4_21 = ttest_ind(df2['mouse_personskills_d'], df2['minority'])\n",
    "tab4_22 = ttest_ind(df2.loc[df2['roma']==0, 'mouse_personskills_d'], df2.loc[df2['roma']==0, 'minority'])\n",
    "tab4_23 = ttest_ind(df2.loc[df2['roma']==0, 'mouse_personskills_d'], df2.loc[df2['asian']==0, 'minority'])\n",
    "tab4_24 = ttest_ind(df2.loc[df2['minority']==1, 'mouse_personskills_d'], df2.loc[df2['minority']==1, 'roma'])"
   ]
  },
  {
   "attachments": {},
   "cell_type": "markdown",
   "metadata": {},
   "source": [
    "Table 5: CZECH LABOR MARKET Ð INVITATION RATE AND INFORMATION ACQUISITION BY ETHNICITY, REGRESSION ANALYSIS"
   ]
  },
  {
   "cell_type": "code",
   "execution_count": null,
   "metadata": {},
   "outputs": [],
   "source": [
    "clm_df1 = pd.get_dummies(df2[['positive', 'minority', 'sales_services', 'req_hs', 'req_exp', 'august']])\n",
    "clm_df1_vars = clm_df1.columns.values.tolist()\n",
    "Y = 'positive'\n",
    "y= clm_df1[Y]\n",
    "cols= [i for i in clm_df1_vars if i not in Y]\n",
    "X = clm_df1[cols]\n",
    "\n",
    "probit_model=smf.Probit(y,X)\n",
    "result=probit_model.fit()\n",
    "print(result.summary2())\n",
    "\"\"\"xi: dprobit positive minority sales_services req_hs req_exp august, r\n",
    "outreg2 using disc.out, symbol(***, **, *) se bdec(2) replace excel\"\"\""
   ]
  },
  {
   "cell_type": "code",
   "execution_count": null,
   "metadata": {},
   "outputs": [],
   "source": [
    "clm_df2 = pd.get_dummies(df2[['positive', 'asian', 'roma', 'sales_services', 'req_hs', 'req_exp', 'august']])\n",
    "clm_df2_vars = clm_df2.columns.values.tolist()\n",
    "Y = 'positive'\n",
    "y= clm_df2[Y]\n",
    "cols= [i for i in clm_df2_vars if i not in Y]\n",
    "X = clm_df2[cols]\n",
    "\n",
    "probit_model=smf.Probit(y,X)\n",
    "result=probit_model.fit()\n",
    "print(result.summary2())\n",
    "\"\"\"xi: dprobit positive asian roma sales_services req_hs req_exp august, r\n",
    "outreg2 using disc.out, symbol(***, **, *) se bdec(2) append excel\"\"\""
   ]
  },
  {
   "cell_type": "code",
   "execution_count": null,
   "metadata": {},
   "outputs": [],
   "source": [
    "clm_df3 = pd.get_dummies(df2[['pagevisit', 'minority', 'sales_services', 'req_hs', 'req_exp', 'august']])\n",
    "clm_df3_vars = clm_df3.columns.values.tolist()\n",
    "Y = 'pagevisit'\n",
    "y= clm_df3[Y]\n",
    "cols= [i for i in clm_df3_vars if i not in Y]\n",
    "X = clm_df3[cols]\n",
    "\n",
    "probit_model=smf.Probit(y,X)\n",
    "result=probit_model.fit()\n",
    "print(result.summary2())\n",
    "\"\"\"xi: dprobit pagevisit minority sales_services req_hs req_exp august, r\n",
    "outreg2 using disc.out, symbol(***, **, *) se bdec(2) append excel\"\"\""
   ]
  },
  {
   "cell_type": "code",
   "execution_count": null,
   "metadata": {},
   "outputs": [],
   "source": [
    "clm_df4 = pd.get_dummies(df2[['pagevisit', 'asian', 'roma', 'sales_services', 'req_hs', 'req_exp', 'august']])\n",
    "clm_df4_vars = clm_df4.columns.values.tolist()\n",
    "Y = 'pagevisit'\n",
    "y= clm_df4[Y]\n",
    "cols= [i for i in clm_df4_vars if i not in Y]\n",
    "X = clm_df4[cols]\n",
    "\n",
    "probit_model=smf.Probit(y,X)\n",
    "result=probit_model.fit()\n",
    "print(result.summary2())\n",
    "\n",
    "\"\"\"xi: dprobit pagevisit asian roma sales_services req_hs req_exp august, r\n",
    "outreg2 using disc.out, symbol(***, **, *) se bdec(2) append excel\"\"\""
   ]
  },
  {
   "cell_type": "code",
   "execution_count": null,
   "metadata": {},
   "outputs": [],
   "source": [
    "clm_df5 = pd.get_dummies(df2[['mouse_workskills_d', 'minority', 'sales_services', 'req_hs', 'req_exp', 'august']])\n",
    "clm_df5_vars = clm_df5.columns.values.tolist()\n",
    "Y = 'mouse_workskills_d'\n",
    "y= clm_df5[Y]\n",
    "cols= [i for i in clm_df5_vars if i not in Y]\n",
    "X = clm_df5[cols]\n",
    "\n",
    "probit_model=smf.Probit(y,X)\n",
    "result=probit_model.fit()\n",
    "print(result.summary2())\n",
    "\n",
    "\"\"\"xi: dprobit mouse_workskills_d minority sales_services req_hs req_exp august, r\n",
    "outreg2 using disc.out, symbol(***, **, *) se bdec(2) append excel\"\"\""
   ]
  },
  {
   "cell_type": "code",
   "execution_count": null,
   "metadata": {},
   "outputs": [],
   "source": [
    "clm_df6 = pd.get_dummies(df2[['mouse_workskills_d', 'asian', 'roma', 'sales_services', 'req_hs', 'req_exp', 'august']])\n",
    "clm_df6_vars = clm_df6.columns.values.tolist()\n",
    "Y = 'mouse_workskills_d'\n",
    "y= clm_df6[Y]\n",
    "cols= [i for i in clm_df6_vars if i not in Y]\n",
    "X = clm_df6[cols]\n",
    "\n",
    "probit_model=smf.Probit(y,X)\n",
    "result=probit_model.fit()\n",
    "print(result.summary2())\n",
    "\n",
    "\"\"\"xi: dprobit mouse_workskills_d asian roma sales_services req_hs req_exp august, r\n",
    "outreg2 using disc.out, symbol(***, **, *) se bdec(2) append excel\"\"\""
   ]
  },
  {
   "cell_type": "code",
   "execution_count": null,
   "metadata": {},
   "outputs": [],
   "source": [
    "clm_df7 = pd.get_dummies(df2[['mouse_personskills_d', 'minority', 'sales_services', 'req_hs', 'req_exp', 'august']])\n",
    "clm_df7_vars = clm_df7.columns.values.tolist()\n",
    "Y = 'mouse_personskills_d'\n",
    "y= clm_df7[Y]\n",
    "cols= [i for i in clm_df7_vars if i not in Y]\n",
    "X = clm_df7[cols]\n",
    "\n",
    "probit_model=smf.Probit(y,X)\n",
    "result=probit_model.fit()\n",
    "print(result.summary2())\n",
    "\n",
    "\"\"\"xi: dprobit mouse_personskills_d minority sales_services req_hs req_exp august, r\n",
    "outreg2 using disc.out, symbol(***, **, *) se bdec(2) append excel\"\"\""
   ]
  },
  {
   "cell_type": "code",
   "execution_count": null,
   "metadata": {},
   "outputs": [],
   "source": [
    "clm_df7 = pd.get_dummies(df2[['mouse_personskills_d', 'asian', 'roma', 'sales_services', 'req_hs', 'req_exp', 'august']])\n",
    "clm_df7_vars = clm_df7.columns.values.tolist()\n",
    "Y = 'mouse_personskills_d'\n",
    "y= clm_df7[Y]\n",
    "cols= [i for i in clm_df7_vars if i not in Y]\n",
    "X = clm_df7[cols]\n",
    "\n",
    "probit_model=smf.Probit(y,X)\n",
    "result=probit_model.fit()\n",
    "print(result.summary2())\n",
    "\n",
    "\"\"\"xi: dprobit mouse_personskills_d asian roma sales_services req_hs req_exp august, r\n",
    "outreg2 using disc.out, symbol(***, **, *) se bdec(2) append excel\"\"\""
   ]
  },
  {
   "attachments": {},
   "cell_type": "markdown",
   "metadata": {},
   "source": [
    "Table 6: GERMAN LABOR MARKET Ð INFORMATION ACQUISITION BY ETHNICITY, COMPARISON OF MEANS"
   ]
  },
  {
   "attachments": {},
   "cell_type": "markdown",
   "metadata": {},
   "source": [
    "Panel A"
   ]
  },
  {
   "cell_type": "code",
   "execution_count": null,
   "metadata": {},
   "outputs": [],
   "source": [
    "tab6_1 = ttest_ind(df3['pagevisit'], df3['minority'])\n",
    "tab6_2 = ttest_ind(df3['count_pagevisit'], df3['minority'])\n",
    "tab6_3 = ttest_ind(df3['positive'], df3['minority'])"
   ]
  },
  {
   "attachments": {},
   "cell_type": "markdown",
   "metadata": {},
   "source": [
    "Panel B"
   ]
  },
  {
   "cell_type": "code",
   "execution_count": null,
   "metadata": {},
   "outputs": [],
   "source": [
    "not3 = df3.loc[df3['group'] != 3]\n",
    "not2 = df3.loc[df3['group'] != 2]\n",
    "\n",
    "tab6_4 = ttest_ind(not3['pagevisit'], not3['minority'])\n",
    "tab6_5 = ttest_ind(not3['count_pagevisit'], not3['minority'])\n",
    "tab6_6 = ttest_ind(not3['positive'], not3['minority'])\n",
    "\n",
    "tab6_7 = ttest_ind(not2['pagevisit'], not2['minority'])\n",
    "tab6_8 = ttest_ind(not2['count_pagevisit'], not2['minority'])\n",
    "tab6_9 = ttest_ind(not2['positive'], not2['minority'])"
   ]
  },
  {
   "attachments": {},
   "cell_type": "markdown",
   "metadata": {},
   "source": [
    "Table 7: GERMAN LABOR MARKET - INFORMATION ACQUISITION BY ETHNICITY, REGRESSION ANALYSIS"
   ]
  },
  {
   "attachments": {},
   "cell_type": "markdown",
   "metadata": {},
   "source": [
    "Panel A"
   ]
  },
  {
   "cell_type": "code",
   "execution_count": null,
   "metadata": {},
   "outputs": [],
   "source": [
    "glm_df1 = pd.get_dummies(df3[['pagevisit', 'minority', 'group', 'req_hs', 'req_exp', 'city', 'august', 'sec_man_con', 'isicj', 'sec_health_edu', 'isicn', 'isicm']])\n",
    "glm_df1_vars = glm_df1.columns.values.tolist()\n",
    "Y = 'pagevisit'\n",
    "y= glm_df1[Y]\n",
    "cols= [i for i in glm_df1_vars if i not in Y]\n",
    "X = glm_df1[cols]\n",
    "\n",
    "probit_model=smf.Probit(y,X)\n",
    "result=probit_model.fit()\n",
    "print(result.summary2())\n",
    "\n",
    "\"\"\"xi: dprobit pagevisit minority i.group req_hs req_exp city august sec_man_con isicj sec_health_edu isicn isicm\n",
    "outreg2 using discrimination.out, symbol(***, **, *)  dec(2) sdec(2)  replace excel\"\"\""
   ]
  },
  {
   "cell_type": "code",
   "execution_count": null,
   "metadata": {},
   "outputs": [],
   "source": [
    "glm_df2 = pd.get_dummies(df3[['pagevisit', 'minority', 'group', 'req_hs', 'req_exp', 'city', 'august', 'sec_man_con', 'isicj', 'sec_health_edu', 'isicn', 'isicm']])\n",
    "glm_df2_vars = glm_df2.columns.values.tolist()\n",
    "Y = 'pagevisit'\n",
    "y= glm_df2[Y]\n",
    "cols= [i for i in glm_df2_vars if i not in Y]\n",
    "X = glm_df2[cols]\n",
    "\n",
    "probit_model=smf.Probit(y,X)\n",
    "result=probit_model.fit()\n",
    "print(result.summary2())\n",
    "\n",
    "\"\"\"xi: dprobit pagevisit i.group*minority req_hs req_exp city august sec_man_con isicj sec_health_edu isicn isicm\n",
    "outreg2 using discrimination.out, symbol(***, **, *)  dec(2) sdec(2)  append excel\"\"\""
   ]
  },
  {
   "cell_type": "code",
   "execution_count": null,
   "metadata": {},
   "outputs": [],
   "source": [
    "glm_df3 = pd.get_dummies(df3[['count_pagevisit', 'minority', 'group', 'req_hs', 'req_exp', 'city', 'august', 'sec_man_con', 'isicj', 'sec_health_edu', 'isicn', 'isicm']])\n",
    "glm_df3_vars = glm_df3.columns.values.tolist()\n",
    "Y = 'count_pagevisit'\n",
    "y= glm_df3[Y]\n",
    "cols= [i for i in glm_df3_vars if i not in Y]\n",
    "X = glm_df3[cols]\n",
    "\n",
    "lin_model=smf.OLS(y,X)\n",
    "result=lin_model.fit()\n",
    "print(result.summary2())\n",
    "\n",
    "\"\"\"xi: regress count_pagevisit minority i.group req_hs req_exp city august sec_man_con isicj sec_health_edu isicn isicm\n",
    "outreg2 using discrimination.out, symbol(***, **, *)  dec(2) sdec(2)  append excel\"\"\""
   ]
  },
  {
   "cell_type": "code",
   "execution_count": null,
   "metadata": {},
   "outputs": [],
   "source": [
    "\"\"\"xi: regress count_pagevisit i.group*minority req_hs req_exp city august sec_man_con isicj sec_health_edu isicn isicm\n",
    "outreg2 using discrimination.out, symbol(***, **, *)  dec(2) sdec(2)  append excel\"\"\""
   ]
  },
  {
   "cell_type": "code",
   "execution_count": null,
   "metadata": {},
   "outputs": [],
   "source": [
    "glm_df5 = pd.get_dummies(df3[['positive', 'minority', 'group', 'req_hs', 'req_exp', 'city', 'august', 'sec_man_con', 'isicj', 'sec_health_edu', 'isicn', 'isicm']])\n",
    "glm_df5_vars = glm_df5.columns.values.tolist()\n",
    "Y = 'positive'\n",
    "y= glm_df5[Y]\n",
    "cols= [i for i in glm_df5_vars if i not in Y]\n",
    "X = glm_df5[cols]\n",
    "\n",
    "probit_model=smf.Probit(y,X)\n",
    "result=probit_model.fit()\n",
    "print(result.summary2())\n",
    "\n",
    "\"\"\"xi: dprobit positive minority i.group req_hs req_exp city august sec_man_con isicj sec_health_edu isicn isicm\n",
    "outreg2 using discrimination.out, symbol(***, **, *)  dec(2) sdec(2)  append excel\"\"\""
   ]
  },
  {
   "cell_type": "code",
   "execution_count": null,
   "metadata": {},
   "outputs": [],
   "source": [
    "\"\"\"xi: dprobit positive i.group*minority req_hs req_exp city august sec_man_con isicj sec_health_edu isicn isicm\n",
    "outreg2 using discrimination.out, symbol(***, **, *)  dec(2) sdec(2)  append excel\"\"\""
   ]
  },
  {
   "attachments": {},
   "cell_type": "markdown",
   "metadata": {},
   "source": [
    "Panel B"
   ]
  },
  {
   "cell_type": "code",
   "execution_count": null,
   "metadata": {},
   "outputs": [],
   "source": [
    "group3 = df3.loc[df3[\"group\"] > 1]\n",
    "glm_df7 = pd.get_dummies(group3[['pagevisit', 'minority', 'group_18m', 'req_hs', 'req_exp', 'city', 'august', 'sec_man_con', 'isicj', 'sec_health_edu', 'isicn', 'isicm']])\n",
    "glm_df7_vars = glm_df7.columns.values.tolist()\n",
    "Y = 'pagevisit'\n",
    "y= glm_df7[Y]\n",
    "cols= [i for i in glm_df7_vars if i not in Y]\n",
    "X = glm_df7[cols]\n",
    "\n",
    "probit_model=smf.Probit(y,X)\n",
    "result=probit_model.fit()\n",
    "print(result.summary2())\n",
    "\"\"\"xi: dprobit pagevisit minority group_18m req_hs req_exp city august sec_man_con isicj sec_health_edu isicn isicm if group>1\n",
    "outreg2 using discrimination.out, symbol(***, **, *)  dec(2) sdec(2)  replace excel\"\"\""
   ]
  },
  {
   "cell_type": "code",
   "execution_count": null,
   "metadata": {},
   "outputs": [],
   "source": [
    "\"\"\"xi: dprobit pagevisit i.minority*group_18m req_hs req_exp city august sec_man_con isicj sec_health_edu isicn isicm if group>1\n",
    "outreg2 using discrimination.out, symbol(***, **, *)  dec(2) sdec(2)  append excel\"\"\""
   ]
  },
  {
   "cell_type": "code",
   "execution_count": null,
   "metadata": {},
   "outputs": [],
   "source": [
    "\n",
    "glm_df9 = pd.get_dummies(group3[['count_pagevisit', 'minority', 'group_18m', 'req_hs', 'req_exp', 'city', 'august', 'sec_man_con', 'isicj', 'sec_health_edu', 'isicn', 'isicm']])\n",
    "glm_df9_vars = glm_df9.columns.values.tolist()\n",
    "Y = 'count_pagevisit'\n",
    "y= glm_df9[Y]\n",
    "cols= [i for i in glm_df9_vars if i not in Y]\n",
    "X = glm_df9[cols]\n",
    "\n",
    "lin_model=smf.OLS(y,X)\n",
    "result=lin_model.fit()\n",
    "print(result.summary2())\n",
    "\n",
    "\"\"\"xi: regress count_pagevisit minority group_18m req_hs req_exp city august sec_man_con isicj sec_health_edu isicn isicm if group>1\n",
    "outreg2 using discrimination.out, symbol(***, **, *)  dec(2) sdec(2)  append excel\"\"\""
   ]
  },
  {
   "cell_type": "code",
   "execution_count": null,
   "metadata": {},
   "outputs": [],
   "source": [
    "\"\"\"xi: regress count_pagevisit i.minority*group_18m req_hs req_exp city august sec_man_con isicj sec_health_edu isicn isicm if group>1\n",
    "outreg2 using discrimination.out, symbol(***, **, *)  dec(2) sdec(2)  append excel\"\"\""
   ]
  },
  {
   "cell_type": "code",
   "execution_count": null,
   "metadata": {},
   "outputs": [],
   "source": [
    "glm_df11 = pd.get_dummies(group3[['positive', 'minority', 'group_18m', 'req_hs', 'req_exp', 'city', 'august', 'sec_man_con', 'isicj', 'sec_health_edu', 'isicn', 'isicm']])\n",
    "glm_df11_vars = glm_df11.columns.values.tolist()\n",
    "Y = 'positive'\n",
    "y= glm_df11[Y]\n",
    "cols= [i for i in glm_df11_vars if i not in Y]\n",
    "X = glm_df11[cols]\n",
    "\n",
    "probit_model=smf.Probit(y,X)\n",
    "result=probit_model.fit()\n",
    "print(result.summary2())\n",
    "\"\"\"xi: dprobit positive minority group_18m req_hs req_exp city august sec_man_con isicj sec_health_edu isicn isicm if group>1\n",
    "outreg2 using discrimination.out, symbol(***, **, *)  dec(2) sdec(2)  append excel\"\"\""
   ]
  },
  {
   "cell_type": "code",
   "execution_count": null,
   "metadata": {},
   "outputs": [],
   "source": [
    "\"\"\"xi: dprobit positive i.minority*group_18m req_hs req_exp city august sec_man_con isicj sec_health_edu isicn isicm if group>1\n",
    "outreg2 using discrimination.out, symbol(***, **, *)  dec(2) sdec(2)  append excel\"\"\""
   ]
  }
 ],
 "metadata": {
  "kernelspec": {
   "display_name": "Python 3",
   "language": "python",
   "name": "python3"
  },
  "language_info": {
   "codemirror_mode": {
    "name": "ipython",
    "version": 3
   },
   "file_extension": ".py",
   "mimetype": "text/x-python",
   "name": "python",
   "nbconvert_exporter": "python",
   "pygments_lexer": "ipython3",
   "version": "3.10.6"
  },
  "orig_nbformat": 4,
  "vscode": {
   "interpreter": {
    "hash": "26de051ba29f2982a8de78e945f0abaf191376122a1563185a90213a26c5da77"
   }
  }
 },
 "nbformat": 4,
 "nbformat_minor": 2
}
