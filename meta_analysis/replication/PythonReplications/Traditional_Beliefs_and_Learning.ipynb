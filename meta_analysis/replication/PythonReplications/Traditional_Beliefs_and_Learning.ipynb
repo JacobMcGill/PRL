{
 "cells": [
  {
   "cell_type": "code",
   "execution_count": 32,
   "metadata": {},
   "outputs": [],
   "source": [
    "import pandas as pd\n",
    "import statsmodels.api as sm\n",
    "import statsmodels.formula.api as smf"
   ]
  },
  {
   "cell_type": "code",
   "execution_count": 33,
   "metadata": {},
   "outputs": [],
   "source": [
    "df_fieldBaselineAll = pd.read_stata('Field_Data//Field_baseline_all.dta')"
   ]
  },
  {
   "cell_type": "code",
   "execution_count": 34,
   "metadata": {},
   "outputs": [],
   "source": [
    "#df_fieldBaselineAll.to_excel('test.xlsx')"
   ]
  },
  {
   "cell_type": "code",
   "execution_count": 35,
   "metadata": {},
   "outputs": [],
   "source": [
    "#df_fieldBaselineAll.dropna(subset=['worried_comp_likely', 'exp_comp', 'exp_comp_in', 'risk_comp_infidelity_b', 'gender'], inplace=True)"
   ]
  },
  {
   "cell_type": "code",
   "execution_count": 36,
   "metadata": {},
   "outputs": [],
   "source": [
    "df_fieldBaselineAll = df_fieldBaselineAll.astype({'worried_comp_likely':'float'})"
   ]
  },
  {
   "cell_type": "code",
   "execution_count": 37,
   "metadata": {},
   "outputs": [
    {
     "data": {
      "text/plain": [
       "resid                          int32\n",
       "hhid                         float32\n",
       "gender                      category\n",
       "exp_comp                    category\n",
       "exp_comp_in                  float32\n",
       "comp_fam                     float32\n",
       "died_fam                     float32\n",
       "comp_friend                  float32\n",
       "died_friend                  float32\n",
       "worried_comp_likely          float64\n",
       "recov_24_m                  category\n",
       "kids_less4                  category\n",
       "age_less40                  category\n",
       "risk_comp_infidelity_b      category\n",
       "buttons_infidelity          category\n",
       "butt_inf                    category\n",
       "age                         category\n",
       "edu_highest                 category\n",
       "kids_opt                    category\n",
       "tot_kids                    category\n",
       "mpay                        category\n",
       "opt_space_m                 category\n",
       "cct_bad_w_health             float32\n",
       "cct_decr_abil                float32\n",
       "cct_use_unfaithful_b        category\n",
       "pillbadforhealth_b          category\n",
       "good_health                  float32\n",
       "worship_often                float32\n",
       "risk_comp_violence_b        category\n",
       "risk_comp_nocheckups_b      category\n",
       "risk_comp_health_b          category\n",
       "risk_comp_young_b           category\n",
       "risk_comp_old_b             category\n",
       "risk_comp_many_kids_b       category\n",
       "risk_comp_nobirthspace_b    category\n",
       "risk_comp_hiv_b             category\n",
       "risk_comp_notdeliverhf_b    category\n",
       "couple                       float32\n",
       "dtype: object"
      ]
     },
     "execution_count": 37,
     "metadata": {},
     "output_type": "execute_result"
    }
   ],
   "source": [
    "df_fieldBaselineAll.dtypes"
   ]
  },
  {
   "cell_type": "code",
   "execution_count": 38,
   "metadata": {},
   "outputs": [],
   "source": [
    "formula1 = \"worried_comp_likely ~ exp_comp\"\n",
    "formula2 = \"worried_comp_likely ~ exp_comp + exp_comp_in + risk_comp_infidelity_b\""
   ]
  },
  {
   "cell_type": "code",
   "execution_count": 39,
   "metadata": {},
   "outputs": [
    {
     "name": "stdout",
     "output_type": "stream",
     "text": [
      "Regression results for women:\n",
      "                             OLS Regression Results                            \n",
      "===============================================================================\n",
      "Dep. Variable:     worried_comp_likely   R-squared:                       0.007\n",
      "Model:                             OLS   Adj. R-squared:                  0.006\n",
      "Method:                  Least Squares   F-statistic:                     9.011\n",
      "Date:                 Mon, 26 Feb 2024   Prob (F-statistic):            0.00274\n",
      "Time:                         12:26:27   Log-Likelihood:                -449.33\n",
      "No. Observations:                 1236   AIC:                             902.7\n",
      "Df Residuals:                     1234   BIC:                             912.9\n",
      "Df Model:                            1                                         \n",
      "Covariance Type:             nonrobust                                         \n",
      "===================================================================================\n",
      "                      coef    std err          t      P>|t|      [0.025      0.975]\n",
      "-----------------------------------------------------------------------------------\n",
      "Intercept           0.4229      0.011     39.487      0.000       0.402       0.444\n",
      "exp_comp[T.Yes]     0.0847      0.028      3.002      0.003       0.029       0.140\n",
      "==============================================================================\n",
      "Omnibus:                      973.773   Durbin-Watson:                   1.879\n",
      "Prob(Omnibus):                  0.000   Jarque-Bera (JB):               83.788\n",
      "Skew:                           0.212   Prob(JB):                     6.39e-19\n",
      "Kurtosis:                       1.797   Cond. No.                         2.92\n",
      "==============================================================================\n",
      "\n",
      "Notes:\n",
      "[1] Standard Errors assume that the covariance matrix of the errors is correctly specified.\n",
      "                             OLS Regression Results                            \n",
      "===============================================================================\n",
      "Dep. Variable:     worried_comp_likely   R-squared:                       0.012\n",
      "Model:                             OLS   Adj. R-squared:                  0.010\n",
      "Method:                  Least Squares   F-statistic:                     4.963\n",
      "Date:                 Mon, 26 Feb 2024   Prob (F-statistic):            0.00199\n",
      "Time:                         12:26:27   Log-Likelihood:                -441.93\n",
      "No. Observations:                 1223   AIC:                             891.9\n",
      "Df Residuals:                     1219   BIC:                             912.3\n",
      "Df Model:                            3                                         \n",
      "Covariance Type:             nonrobust                                         \n",
      "============================================================================================================\n",
      "                                               coef    std err          t      P>|t|      [0.025      0.975]\n",
      "------------------------------------------------------------------------------------------------------------\n",
      "Intercept                                    0.4014      0.015     27.284      0.000       0.373       0.430\n",
      "exp_comp[T.Yes]                              0.1238      0.036      3.450      0.001       0.053       0.194\n",
      "risk_comp_infidelity_b[T.Unprompted Yes]     0.0524      0.022      2.429      0.015       0.010       0.095\n",
      "exp_comp_in                                 -0.1057      0.059     -1.806      0.071      -0.221       0.009\n",
      "==============================================================================\n",
      "Omnibus:                      857.578   Durbin-Watson:                   1.897\n",
      "Prob(Omnibus):                  0.000   Jarque-Bera (JB):               80.752\n",
      "Skew:                           0.207   Prob(JB):                     2.92e-18\n",
      "Kurtosis:                       1.811   Cond. No.                         7.30\n",
      "==============================================================================\n",
      "\n",
      "Notes:\n",
      "[1] Standard Errors assume that the covariance matrix of the errors is correctly specified.\n"
     ]
    }
   ],
   "source": [
    "# Fit regression model for women\n",
    "model_women1 = smf.ols(formula1, data=df_fieldBaselineAll[df_fieldBaselineAll['gender'] == 'woman']).fit()\n",
    "model_women2 = smf.ols(formula2, data=df_fieldBaselineAll[df_fieldBaselineAll['gender'] == 'woman']).fit()\n",
    "print(\"Regression results for women:\")\n",
    "print(model_women1.summary())\n",
    "print(model_women2.summary())"
   ]
  },
  {
   "cell_type": "code",
   "execution_count": 41,
   "metadata": {},
   "outputs": [
    {
     "name": "stdout",
     "output_type": "stream",
     "text": [
      "Regression results for men:\n",
      "                             OLS Regression Results                            \n",
      "===============================================================================\n",
      "Dep. Variable:     worried_comp_likely   R-squared:                       0.006\n",
      "Model:                             OLS   Adj. R-squared:                  0.005\n",
      "Method:                  Least Squares   F-statistic:                     5.064\n",
      "Date:                 Mon, 26 Feb 2024   Prob (F-statistic):             0.0247\n",
      "Time:                         12:28:10   Log-Likelihood:                -244.48\n",
      "No. Observations:                  878   AIC:                             493.0\n",
      "Df Residuals:                      876   BIC:                             502.5\n",
      "Df Model:                            1                                         \n",
      "Covariance Type:             nonrobust                                         \n",
      "===================================================================================\n",
      "                      coef    std err          t      P>|t|      [0.025      0.975]\n",
      "-----------------------------------------------------------------------------------\n",
      "Intercept           0.3455      0.012     29.111      0.000       0.322       0.369\n",
      "exp_comp[T.Yes]     0.0644      0.029      2.250      0.025       0.008       0.121\n",
      "==============================================================================\n",
      "Omnibus:                      110.558   Durbin-Watson:                   1.846\n",
      "Prob(Omnibus):                  0.000   Jarque-Bera (JB):               59.086\n",
      "Skew:                           0.484   Prob(JB):                     1.48e-13\n",
      "Kurtosis:                       2.176   Cond. No.                         2.74\n",
      "==============================================================================\n",
      "\n",
      "Notes:\n",
      "[1] Standard Errors assume that the covariance matrix of the errors is correctly specified.\n",
      "                             OLS Regression Results                            \n",
      "===============================================================================\n",
      "Dep. Variable:     worried_comp_likely   R-squared:                       0.013\n",
      "Model:                             OLS   Adj. R-squared:                  0.010\n",
      "Method:                  Least Squares   F-statistic:                     3.846\n",
      "Date:                 Mon, 26 Feb 2024   Prob (F-statistic):            0.00944\n",
      "Time:                         12:28:10   Log-Likelihood:                -241.11\n",
      "No. Observations:                  875   AIC:                             490.2\n",
      "Df Residuals:                      871   BIC:                             509.3\n",
      "Df Model:                            3                                         \n",
      "Covariance Type:             nonrobust                                         \n",
      "============================================================================================================\n",
      "                                               coef    std err          t      P>|t|      [0.025      0.975]\n",
      "------------------------------------------------------------------------------------------------------------\n",
      "Intercept                                    0.3476      0.018     19.125      0.000       0.312       0.383\n",
      "exp_comp[T.Yes]                              0.1274      0.041      3.115      0.002       0.047       0.208\n",
      "risk_comp_infidelity_b[T.Unprompted Yes]    -0.0044      0.024     -0.185      0.853      -0.052       0.043\n",
      "exp_comp_in                                 -0.1266      0.057     -2.210      0.027      -0.239      -0.014\n",
      "==============================================================================\n",
      "Omnibus:                      104.507   Durbin-Watson:                   1.832\n",
      "Prob(Omnibus):                  0.000   Jarque-Bera (JB):               56.789\n",
      "Skew:                           0.474   Prob(JB):                     4.66e-13\n",
      "Kurtosis:                       2.189   Cond. No.                         7.42\n",
      "==============================================================================\n",
      "\n",
      "Notes:\n",
      "[1] Standard Errors assume that the covariance matrix of the errors is correctly specified.\n"
     ]
    }
   ],
   "source": [
    "# Fit regression model for women\n",
    "model_men1 = smf.ols(formula1, data=df_fieldBaselineAll[df_fieldBaselineAll['gender'] == 'man']).fit()\n",
    "model_men2 = smf.ols(formula2, data=df_fieldBaselineAll[df_fieldBaselineAll['gender'] == 'man']).fit()\n",
    "print(\"Regression results for men:\")\n",
    "print(model_men1.summary())\n",
    "print(model_men2.summary())"
   ]
  },
  {
   "cell_type": "code",
   "execution_count": null,
   "metadata": {},
   "outputs": [],
   "source": []
  }
 ],
 "metadata": {
  "kernelspec": {
   "display_name": "base",
   "language": "python",
   "name": "python3"
  },
  "language_info": {
   "codemirror_mode": {
    "name": "ipython",
    "version": 3
   },
   "file_extension": ".py",
   "mimetype": "text/x-python",
   "name": "python",
   "nbconvert_exporter": "python",
   "pygments_lexer": "ipython3",
   "version": "3.9.15"
  }
 },
 "nbformat": 4,
 "nbformat_minor": 2
}
