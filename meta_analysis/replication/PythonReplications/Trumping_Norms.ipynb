{
 "cells": [
  {
   "cell_type": "code",
   "execution_count": 2,
   "metadata": {},
   "outputs": [],
   "source": [
    "import pandas as pd\n",
    "import statsmodels.api as sm\n",
    "import statsmodels.formula.api as smf\n",
    "import numpy as np\n",
    "from sklearn.linear_model import LogisticRegression\n",
    "from sklearn.neighbors import NearestNeighbors\n",
    "from sklearn.preprocessing import StandardScaler\n",
    "from sklearn.metrics.pairwise import pairwise_distances\n",
    "from causalml.match import NearestNeighborMatch\n",
    "from causalml.dataset import *"
   ]
  },
  {
   "cell_type": "code",
   "execution_count": 3,
   "metadata": {},
   "outputs": [],
   "source": [
    "df_Trump = pd.read_stata('trumpingnorms_clean_Low.dta')"
   ]
  },
  {
   "cell_type": "code",
   "execution_count": 4,
   "metadata": {},
   "outputs": [],
   "source": [
    "df_Trump = df_Trump[df_Trump['period'] >= 5]"
   ]
  },
  {
   "cell_type": "code",
   "execution_count": 5,
   "metadata": {},
   "outputs": [],
   "source": [
    "df_Trump = df_Trump[df_Trump['period'] <= 8]"
   ]
  },
  {
   "cell_type": "code",
   "execution_count": 6,
   "metadata": {},
   "outputs": [],
   "source": [
    "df_Trump.dropna(subset=['hardcommit_avg', 'age', 'nonwhite'], inplace=True)"
   ]
  },
  {
   "cell_type": "code",
   "execution_count": 7,
   "metadata": {},
   "outputs": [],
   "source": [
    "# Step 1: Fit a logistic regression model to estimate propensity scores\n",
    "X = df_Trump[['age', 'nonwhite', 'liberal', 'UScitizen', 'nativespeaker', 'employed', 'female', 'partner_female', 'genrevealed']]\n",
    "y = df_Trump['preelection']\n",
    "propensity_model = LogisticRegression()\n",
    "propensity_model.fit(X, y)\n",
    "\n",
    "# Step 2: Calculate propensity scores\n",
    "propensity_scores = propensity_model.predict_proba(X)[:, 1]\n",
    "\n",
    "# Step 3: Match the data\n",
    "treated_indices = df_Trump.index[df_Trump['preelection'] == 1]\n",
    "control_indices = df_Trump.index[df_Trump['preelection'] == 0]\n",
    "\n",
    "# Use nearest neighbor matching\n",
    "nn = NearestNeighbors(n_neighbors=1, algorithm='ball_tree')\n",
    "nn.fit(X.loc[control_indices])\n",
    "distances, indices = nn.kneighbors(X.loc[treated_indices])\n",
    "matched_control_indices = control_indices[indices.flatten()]\n",
    "\n",
    "# Step 4: Assess balance and count match frequency\n",
    "matched_data = df_Trump.loc[np.concatenate([treated_indices, matched_control_indices])]\n",
    "match_frequency = pd.Series(matched_control_indices).value_counts()"
   ]
  },
  {
   "cell_type": "code",
   "execution_count": 8,
   "metadata": {},
   "outputs": [
    {
     "data": {
      "text/plain": [
       "array([0.77160944, 0.77160944, 0.77160944, ..., 0.65291522, 0.66396267,\n",
       "       0.66396267])"
      ]
     },
     "execution_count": 8,
     "metadata": {},
     "output_type": "execute_result"
    }
   ],
   "source": [
    "propensity_scores"
   ]
  },
  {
   "cell_type": "code",
   "execution_count": 9,
   "metadata": {},
   "outputs": [],
   "source": [
    "list_weights = []\n",
    "#df_Trump.to_excel('test1.xlsx')\n",
    "for i in df_Trump.index:\n",
    "    try:\n",
    "        list_weights.append(match_frequency[i])\n",
    "    except:\n",
    "        list_weights.append(0)\n",
    "\n",
    "#df_Trump.index"
   ]
  },
  {
   "cell_type": "code",
   "execution_count": 10,
   "metadata": {},
   "outputs": [],
   "source": [
    "df_Trump['_weights'] = list_weights"
   ]
  },
  {
   "cell_type": "code",
   "execution_count": 11,
   "metadata": {},
   "outputs": [],
   "source": [
    "treatment_cols = ['preelection', 'age', 'nonwhite', 'liberal', 'UScitizen', 'nativespeaker', 'employed', 'female', 'partner_female', 'genrevealed']\n",
    "X = df_Trump[treatment_cols]\n",
    "y = df_Trump['hardcommit_avg']  # Assuming there's a treatment indicator variable"
   ]
  },
  {
   "cell_type": "code",
   "execution_count": 12,
   "metadata": {},
   "outputs": [],
   "source": [
    "df_Trump['session_id'] = df_Trump.groupby('session').ngroup()"
   ]
  },
  {
   "cell_type": "code",
   "execution_count": 13,
   "metadata": {},
   "outputs": [],
   "source": [
    "df_Trump.dropna(subset=['hardcommit_avg', 'age', 'nonwhite'], inplace=True)"
   ]
  },
  {
   "cell_type": "code",
   "execution_count": 14,
   "metadata": {},
   "outputs": [],
   "source": [
    "treatment = 'preelection'\n",
    "control_variables = ['hardcommit_avg','age', 'nonwhite', 'liberal', 'UScitizen', 'nativespeaker', 'employed', 'female', 'partner_female', 'genrevealed']"
   ]
  },
  {
   "cell_type": "code",
   "execution_count": 15,
   "metadata": {},
   "outputs": [],
   "source": [
    "matcher = NearestNeighborMatch(replace=True, ratio=1)"
   ]
  },
  {
   "cell_type": "code",
   "execution_count": 16,
   "metadata": {},
   "outputs": [],
   "source": [
    "matched_data = matcher.match(data=df_Trump, treatment_col= treatment, score_cols=control_variables)"
   ]
  },
  {
   "cell_type": "code",
   "execution_count": null,
   "metadata": {},
   "outputs": [],
   "source": []
  },
  {
   "cell_type": "code",
   "execution_count": 17,
   "metadata": {},
   "outputs": [
    {
     "name": "stdout",
     "output_type": "stream",
     "text": [
      "                            OLS Regression Results                            \n",
      "==============================================================================\n",
      "Dep. Variable:         hardcommit_avg   R-squared:                       0.071\n",
      "Model:                            OLS   Adj. R-squared:                  0.062\n",
      "Method:                 Least Squares   F-statistic:                     4.727\n",
      "Date:                Fri, 24 May 2024   Prob (F-statistic):           0.000168\n",
      "Time:                        01:53:03   Log-Likelihood:                -440.19\n",
      "No. Observations:                1388   AIC:                             908.4\n",
      "Df Residuals:                    1374   BIC:                             981.7\n",
      "Df Model:                          13                                         \n",
      "Covariance Type:              cluster                                         \n",
      "==================================================================================\n",
      "                     coef    std err          z      P>|z|      [0.025      0.975]\n",
      "----------------------------------------------------------------------------------\n",
      "Intercept          0.1628      0.122      1.336      0.182      -0.076       0.402\n",
      "postelection       0.1280      0.041      3.159      0.002       0.049       0.207\n",
      "age               -0.0018      0.003     -0.652      0.515      -0.007       0.004\n",
      "nonwhite          -0.0024      0.033     -0.072      0.942      -0.067       0.063\n",
      "liberal           -0.0513      0.056     -0.908      0.364      -0.162       0.059\n",
      "UScitizen          0.0316      0.042      0.760      0.448      -0.050       0.113\n",
      "nativespeaker      0.0256      0.046      0.556      0.579      -0.065       0.116\n",
      "employed           0.0042      0.032      0.133      0.895      -0.058       0.067\n",
      "female            -0.0834      0.023     -3.587      0.000      -0.129      -0.038\n",
      "partner_female    -0.0095      0.021     -0.455      0.649      -0.051       0.031\n",
      "genrevealed       -0.0457      0.051     -0.892      0.372      -0.146       0.055\n",
      "day                0.0219      0.025      0.884      0.377      -0.027       0.070\n",
      "withindaytrend     0.0016      0.019      0.084      0.933      -0.036       0.039\n",
      "period             0.0073      0.006      1.125      0.261      -0.005       0.020\n",
      "==============================================================================\n",
      "Omnibus:                      264.920   Durbin-Watson:                   1.298\n",
      "Prob(Omnibus):                  0.000   Jarque-Bera (JB):              432.824\n",
      "Skew:                           1.338   Prob(JB):                     1.03e-94\n",
      "Kurtosis:                       3.568   Cond. No.                         239.\n",
      "==============================================================================\n",
      "\n",
      "Notes:\n",
      "[1] Standard Errors are robust to cluster correlation (cluster)\n"
     ]
    }
   ],
   "source": [
    "model_C = smf.ols(formula='hardcommit_avg ~ postelection + age + nonwhite + liberal + UScitizen + nativespeaker + employed + female + partner_female + genrevealed + day + withindaytrend + period', data=df_Trump)\n",
    "results_C = model_C.fit(cov_type='cluster', cov_kwds={'groups': df_Trump['session_id']})\n",
    "\n",
    "# Print summary of results\n",
    "print(results_C.summary())"
   ]
  },
  {
   "cell_type": "code",
   "execution_count": null,
   "metadata": {},
   "outputs": [],
   "source": []
  },
  {
   "cell_type": "code",
   "execution_count": null,
   "metadata": {},
   "outputs": [],
   "source": []
  },
  {
   "cell_type": "code",
   "execution_count": 18,
   "metadata": {},
   "outputs": [
    {
     "name": "stdout",
     "output_type": "stream",
     "text": [
      "                            WLS Regression Results                            \n",
      "==============================================================================\n",
      "Dep. Variable:         hardcommit_avg   R-squared:                       0.160\n",
      "Model:                            WLS   Adj. R-squared:                  0.152\n",
      "Method:                 Least Squares   F-statistic:                     137.9\n",
      "Date:                Fri, 24 May 2024   Prob (F-statistic):           1.02e-23\n",
      "Time:                        01:53:03   Log-Likelihood:                   -inf\n",
      "No. Observations:                1388   AIC:                               inf\n",
      "Df Residuals:                    1375   BIC:                               inf\n",
      "Df Model:                          12                                         \n",
      "Covariance Type:              cluster                                         \n",
      "==================================================================================\n",
      "                     coef    std err          z      P>|z|      [0.025      0.975]\n",
      "----------------------------------------------------------------------------------\n",
      "Intercept          0.1000      0.210      0.476      0.634      -0.312       0.512\n",
      "postelection       0.1000      0.210      0.476      0.634      -0.312       0.512\n",
      "age               -0.0148      0.014     -1.031      0.302      -0.043       0.013\n",
      "nonwhite           0.1560      0.119      1.308      0.191      -0.078       0.390\n",
      "liberal           -0.1503      0.212     -0.710      0.478      -0.565       0.265\n",
      "UScitizen          0.0769      0.091      0.840      0.401      -0.102       0.256\n",
      "nativespeaker      0.1339      0.087      1.548      0.122      -0.036       0.304\n",
      "employed          -0.1217      0.069     -1.773      0.076      -0.256       0.013\n",
      "female            -0.0277      0.079     -0.349      0.727      -0.183       0.128\n",
      "partner_female    -0.0404      0.048     -0.843      0.399      -0.134       0.054\n",
      "genrevealed       -0.0133      0.168     -0.080      0.937      -0.342       0.315\n",
      "day                0.1242      0.058      2.134      0.033       0.010       0.238\n",
      "withindaytrend    -0.0124      0.059     -0.209      0.834      -0.129       0.104\n",
      "period             0.0165      0.023      0.717      0.474      -0.029       0.062\n",
      "==============================================================================\n",
      "Omnibus:                      816.631   Durbin-Watson:                   1.682\n",
      "Prob(Omnibus):                  0.000   Jarque-Bera (JB):            34147.312\n",
      "Skew:                           2.082   Prob(JB):                         0.00\n",
      "Kurtosis:                      26.940   Cond. No.                     1.33e+17\n",
      "==============================================================================\n",
      "\n",
      "Notes:\n",
      "[1] Standard Errors are robust to cluster correlation (cluster)\n",
      "[2] The smallest eigenvalue is 2.23e-29. This might indicate that there are\n",
      "strong multicollinearity problems or that the design matrix is singular.\n"
     ]
    }
   ],
   "source": [
    "# Regression model with weighting\n",
    "model_D = smf.wls(formula='hardcommit_avg ~ postelection + age + nonwhite + liberal + UScitizen + nativespeaker + employed + female + partner_female + genrevealed + day + withindaytrend + period', data=df_Trump, weights=df_Trump['_weights'])\n",
    "results_D = model_D.fit(cov_type='cluster', cov_kwds={'groups': df_Trump['session_id']})\n",
    "\n",
    "# Print summary of results\n",
    "print(results_D.summary())"
   ]
  },
  {
   "cell_type": "code",
   "execution_count": 19,
   "metadata": {},
   "outputs": [],
   "source": [
    "df_Trump = df_Trump[df_Trump['female'] == 0]"
   ]
  },
  {
   "cell_type": "code",
   "execution_count": 20,
   "metadata": {},
   "outputs": [],
   "source": [
    "df_Trump = df_Trump[df_Trump['partner_female'] == 1]"
   ]
  },
  {
   "cell_type": "code",
   "execution_count": 21,
   "metadata": {},
   "outputs": [],
   "source": [
    "df_Trump = df_Trump[df_Trump['genrevealed'] == 1]"
   ]
  },
  {
   "cell_type": "code",
   "execution_count": 22,
   "metadata": {},
   "outputs": [
    {
     "name": "stdout",
     "output_type": "stream",
     "text": [
      "                            OLS Regression Results                            \n",
      "==============================================================================\n",
      "Dep. Variable:         hardcommit_avg   R-squared:                       0.145\n",
      "Model:                            OLS   Adj. R-squared:                  0.104\n",
      "Method:                 Least Squares   F-statistic:                     18.96\n",
      "Date:                Fri, 24 May 2024   Prob (F-statistic):           5.01e-07\n",
      "Time:                        01:53:03   Log-Likelihood:                -53.925\n",
      "No. Observations:                 221   AIC:                             129.8\n",
      "Df Residuals:                     210   BIC:                             167.2\n",
      "Df Model:                          10                                         \n",
      "Covariance Type:              cluster                                         \n",
      "==================================================================================\n",
      "                     coef    std err          z      P>|z|      [0.025      0.975]\n",
      "----------------------------------------------------------------------------------\n",
      "Intercept          0.0166      0.226      0.074      0.941      -0.426       0.459\n",
      "postelection       0.1839      0.074      2.477      0.013       0.038       0.329\n",
      "age               -0.0072      0.004     -1.636      0.102      -0.016       0.001\n",
      "nonwhite          -0.0419      0.071     -0.586      0.558      -0.182       0.098\n",
      "liberal            0.0021      0.126      0.017      0.987      -0.245       0.249\n",
      "UScitizen          0.1594      0.090      1.768      0.077      -0.017       0.336\n",
      "nativespeaker     -0.0601      0.134     -0.449      0.654      -0.322       0.202\n",
      "employed           0.0297      0.057      0.521      0.602      -0.082       0.142\n",
      "day               -0.0591      0.042     -1.406      0.160      -0.141       0.023\n",
      "withindaytrend     0.0113      0.029      0.393      0.694      -0.045       0.068\n",
      "period             0.0400      0.020      1.988      0.047       0.001       0.079\n",
      "==============================================================================\n",
      "Omnibus:                       54.987   Durbin-Watson:                   1.148\n",
      "Prob(Omnibus):                  0.000   Jarque-Bera (JB):               88.465\n",
      "Skew:                           1.425   Prob(JB):                     6.17e-20\n",
      "Kurtosis:                       4.221   Cond. No.                         219.\n",
      "==============================================================================\n",
      "\n",
      "Notes:\n",
      "[1] Standard Errors are robust to cluster correlation (cluster)\n"
     ]
    }
   ],
   "source": [
    "model_G = smf.ols(formula='hardcommit_avg ~ postelection + age + nonwhite + liberal + UScitizen + nativespeaker + employed + day + withindaytrend + period', data=df_Trump)\n",
    "results_G = model_G.fit(cov_type='cluster', cov_kwds={'groups': df_Trump['session_id']})\n",
    "\n",
    "# Print summary of results\n",
    "print(results_G.summary())"
   ]
  },
  {
   "cell_type": "code",
   "execution_count": 23,
   "metadata": {},
   "outputs": [],
   "source": [
    "treatment = 'preelection'\n",
    "control_variables = ['hardcommit_avg','age', 'nonwhite', 'liberal', 'UScitizen', 'nativespeaker', 'employed']"
   ]
  },
  {
   "cell_type": "code",
   "execution_count": 24,
   "metadata": {},
   "outputs": [],
   "source": [
    "matcher = NearestNeighborMatch(replace=True, ratio=1)"
   ]
  },
  {
   "cell_type": "code",
   "execution_count": 25,
   "metadata": {},
   "outputs": [],
   "source": [
    "matched_data = matcher.match(data=df_Trump, treatment_col= treatment, score_cols=control_variables)"
   ]
  },
  {
   "cell_type": "code",
   "execution_count": 26,
   "metadata": {},
   "outputs": [
    {
     "name": "stdout",
     "output_type": "stream",
     "text": [
      "                            WLS Regression Results                            \n",
      "==============================================================================\n",
      "Dep. Variable:         hardcommit_avg   R-squared:                       0.392\n",
      "Model:                            WLS   Adj. R-squared:                  0.366\n",
      "Method:                 Least Squares   F-statistic:                 1.999e+12\n",
      "Date:                Fri, 24 May 2024   Prob (F-statistic):           4.51e-94\n",
      "Time:                        01:53:03   Log-Likelihood:                   -inf\n",
      "No. Observations:                 221   AIC:                               inf\n",
      "Df Residuals:                     211   BIC:                               inf\n",
      "Df Model:                           9                                         \n",
      "Covariance Type:              cluster                                         \n",
      "==================================================================================\n",
      "                     coef    std err          z      P>|z|      [0.025      0.975]\n",
      "----------------------------------------------------------------------------------\n",
      "Intercept         -0.5033      0.349     -1.443      0.149      -1.187       0.180\n",
      "postelection      -0.5033      0.349     -1.443      0.149      -1.187       0.180\n",
      "age                0.0527      0.040      1.309      0.191      -0.026       0.132\n",
      "nonwhite           0.3045      0.269      1.134      0.257      -0.222       0.831\n",
      "liberal           -0.4244      0.301     -1.411      0.158      -1.014       0.165\n",
      "UScitizen          0.3355      0.276      1.217      0.224      -0.205       0.876\n",
      "nativespeaker     -0.1180      0.263     -0.448      0.654      -0.634       0.398\n",
      "employed          -0.0458      0.249     -0.184      0.854      -0.535       0.443\n",
      "female         -2.619e-17   3.22e-17     -0.814      0.415   -8.92e-17    3.68e-17\n",
      "partner_female    -0.5033      0.349     -1.443      0.149      -1.187       0.180\n",
      "genrevealed       -0.5033      0.349     -1.443      0.149      -1.187       0.180\n",
      "day                0.1834      0.195      0.941      0.347      -0.199       0.565\n",
      "withindaytrend     0.1272      0.124      1.028      0.304      -0.115       0.370\n",
      "period             0.1052      0.094      1.120      0.263      -0.079       0.289\n",
      "==============================================================================\n",
      "Omnibus:                      176.471   Durbin-Watson:                   2.130\n",
      "Prob(Omnibus):                  0.000   Jarque-Bera (JB):             9895.465\n",
      "Skew:                           2.446   Prob(JB):                         0.00\n",
      "Kurtosis:                      35.414   Cond. No.                     1.02e+19\n",
      "==============================================================================\n",
      "\n",
      "Notes:\n",
      "[1] Standard Errors are robust to cluster correlation (cluster)\n",
      "[2] The smallest eigenvalue is  5e-34. This might indicate that there are\n",
      "strong multicollinearity problems or that the design matrix is singular.\n"
     ]
    }
   ],
   "source": [
    "# Regression model with weighting\n",
    "model_H = smf.wls(formula='hardcommit_avg ~ postelection + age + nonwhite + liberal + UScitizen + nativespeaker + employed + female + partner_female + genrevealed + day + withindaytrend + period', data=df_Trump, weights=df_Trump['_weights'])\n",
    "results_H = model_H.fit(cov_type='cluster', cov_kwds={'groups': df_Trump['session_id']})\n",
    "\n",
    "# Print summary of results\n",
    "print(results_H.summary())"
   ]
  },
  {
   "cell_type": "code",
   "execution_count": null,
   "metadata": {},
   "outputs": [],
   "source": []
  }
 ],
 "metadata": {
  "kernelspec": {
   "display_name": "base",
   "language": "python",
   "name": "python3"
  },
  "language_info": {
   "codemirror_mode": {
    "name": "ipython",
    "version": 3
   },
   "file_extension": ".py",
   "mimetype": "text/x-python",
   "name": "python",
   "nbconvert_exporter": "python",
   "pygments_lexer": "ipython3",
   "version": "3.9.15"
  }
 },
 "nbformat": 4,
 "nbformat_minor": 2
}
