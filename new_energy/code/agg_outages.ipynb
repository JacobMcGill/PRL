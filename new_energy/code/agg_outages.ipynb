{
 "cells": [
  {
   "cell_type": "code",
   "execution_count": 9,
   "metadata": {},
   "outputs": [],
   "source": [
    "import pandas as pd\n",
    "INPUT = '../data/NRGSTREAM_ERC_UnplannedOutages_06.01.2023-10.01.2023.csv'"
   ]
  },
  {
   "cell_type": "code",
   "execution_count": 18,
   "metadata": {},
   "outputs": [],
   "source": [
    "# Read the input file, assuming headers are in the 6th row (index 5 in Python)\n",
    "df = pd.read_csv(INPUT, header=4)\n",
    "\n",
    "# Extract the relevant columns\n",
    "df['Outage Start'] = pd.to_datetime(df['Outage Start'], errors='coerce')\n",
    "df['Outage End'] = pd.to_datetime(df['Outage End'], errors='coerce')\n",
    "\n",
    "# Drop rows with invalid datetime values\n",
    "df = df.dropna(subset=['Outage Start', 'Outage End'])\n",
    "\n",
    "# Filter for Fuel Type containing \"coal\", \"gas\", \"lignite\", or \"wood\"\n",
    "df = df[df['Fuel Type'].str.contains('coal|gas|lignite|wood', case=False, na=False)]\n",
    "\n",
    "# Sort rows\n",
    "df = df.sort_values(by=['Outage Start', 'Outage End'], ascending=[False, True]).reset_index(drop=True)\n"
   ]
  },
  {
   "cell_type": "code",
   "execution_count": 15,
   "metadata": {},
   "outputs": [
    {
     "name": "stdout",
     "output_type": "stream",
     "text": [
      "     Station Long Name Resource Name    Fuel Type            Outage Type  \\\n",
      "6135               WAP    WAP_WAP_G1  Natural Gas       Forced Extension   \n",
      "6136               WAP    WAP_WAP_G1  Natural Gas       Forced Extension   \n",
      "6137               WAP    WAP_WAP_G1  Natural Gas       Forced Extension   \n",
      "6138               WAP    WAP_WAP_G1  Natural Gas       Forced Extension   \n",
      "6139          TY_COOKE  TY_COOKE_GT3  Natural Gas  Unavoidable Extension   \n",
      "\n",
      "      Available MW  Outage MW  Reduction MW        Outage Start  \\\n",
      "6135           169        152            17 2022-09-06 20:11:00   \n",
      "6136           169        152            17 2022-09-06 20:11:00   \n",
      "6137           169        152            17 2022-09-06 20:11:00   \n",
      "6138           169        152            17 2022-09-06 20:11:00   \n",
      "6139            17          0            17 2022-08-04 00:00:00   \n",
      "\n",
      "              Outage End                    Reason  clean1  \n",
      "6135 2023-07-18 22:00:00  Exhaust Problems/Repairs    5334  \n",
      "6136 2023-07-16 16:00:00  Exhaust Problems/Repairs    5334  \n",
      "6137 2023-07-19 18:00:00  Exhaust Problems/Repairs    5334  \n",
      "6138 2023-07-15 23:59:00  Exhaust Problems/Repairs    5334  \n",
      "6139 2023-06-01 23:59:00                     Other    5335  \n"
     ]
    }
   ],
   "source": [
    "# Drop rows with missing values in 'Resource Name' and 'Outage Start'\n",
    "df = df.dropna(subset=['Resource Name', 'Outage Start']).reset_index(drop=True)\n",
    "\n",
    "# Create the clean1 column\n",
    "df['clean1'] = 0\n",
    "counter = 0\n",
    "for i in range(len(df)):\n",
    "    if i > 0 and (\n",
    "        df.iloc[i]['Resource Name'] == df.iloc[i - 1]['Resource Name'] and\n",
    "        df.iloc[i]['Outage Start'] == df.iloc[i - 1]['Outage Start']\n",
    "    ):\n",
    "        df.loc[i, 'clean1'] = counter\n",
    "    else:\n",
    "        counter += 1\n",
    "        df.loc[i, 'clean1'] = counter\n",
    "print(df.tail())"
   ]
  },
  {
   "cell_type": "code",
   "execution_count": 16,
   "metadata": {},
   "outputs": [
    {
     "name": "stdout",
     "output_type": "stream",
     "text": [
      "     Station Long Name Resource Name         Fuel Type            Outage Type  \\\n",
      "22                  SL      SL_SL_G3  Waste/Other Coal    Maintenance Level 2   \n",
      "23                  SL      SL_SL_G3  Waste/Other Coal  Unavoidable Extension   \n",
      "42                 THW   THW_THWGT44       Natural Gas  Unavoidable Extension   \n",
      "43                 THW   THW_THWGT44       Natural Gas  Unavoidable Extension   \n",
      "59                 PSG   PSG_PSG_ST2       Natural Gas  Unavoidable Extension   \n",
      "...                ...           ...               ...                    ...   \n",
      "6134               WAP    WAP_WAP_G1       Natural Gas       Forced Extension   \n",
      "6135               WAP    WAP_WAP_G1       Natural Gas       Forced Extension   \n",
      "6136               WAP    WAP_WAP_G1       Natural Gas       Forced Extension   \n",
      "6137               WAP    WAP_WAP_G1       Natural Gas       Forced Extension   \n",
      "6138               WAP    WAP_WAP_G1       Natural Gas       Forced Extension   \n",
      "\n",
      "      Available MW  Outage MW  Reduction MW        Outage Start  \\\n",
      "22              30          0            30 2023-10-01 07:00:00   \n",
      "23              30          0            30 2023-10-01 07:00:00   \n",
      "42              56          0            56 2023-10-01 00:01:00   \n",
      "43              56          0            56 2023-10-01 00:01:00   \n",
      "59             168          0           168 2023-09-30 23:00:00   \n",
      "...            ...        ...           ...                 ...   \n",
      "6134           169        152            17 2022-09-06 20:11:00   \n",
      "6135           169        152            17 2022-09-06 20:11:00   \n",
      "6136           169        152            17 2022-09-06 20:11:00   \n",
      "6137           169        152            17 2022-09-06 20:11:00   \n",
      "6138           169        152            17 2022-09-06 20:11:00   \n",
      "\n",
      "              Outage End                    Reason  clean1  clean2  \n",
      "22   2023-10-13 17:00:00                     Other      23    True  \n",
      "23   2023-10-17 17:00:00                     Other      23    True  \n",
      "42   2023-10-13 23:59:00                     Other      42    True  \n",
      "43   2023-10-11 23:59:00                     Other      42    True  \n",
      "59   2023-10-16 23:59:00                 Boroscope      58    True  \n",
      "...                  ...                       ...     ...     ...  \n",
      "6134 2023-06-30 23:59:00  Exhaust Problems/Repairs    5334    True  \n",
      "6135 2023-07-18 22:00:00  Exhaust Problems/Repairs    5334    True  \n",
      "6136 2023-07-16 16:00:00  Exhaust Problems/Repairs    5334    True  \n",
      "6137 2023-07-19 18:00:00  Exhaust Problems/Repairs    5334    True  \n",
      "6138 2023-07-15 23:59:00  Exhaust Problems/Repairs    5334    True  \n",
      "\n",
      "[1159 rows x 12 columns]\n"
     ]
    }
   ],
   "source": [
    "# Create the clean2 column\n",
    "df['clean2'] = False\n",
    "for i in range(len(df)):\n",
    "    df.loc[i, 'clean2'] = (\n",
    "        (i > 0 and df.iloc[i]['clean1'] == df.iloc[i - 1]['clean1']) or\n",
    "        (i < len(df) - 1 and df.iloc[i]['clean1'] == df.iloc[i + 1]['clean1'])\n",
    "    )\n",
    "print(df[df['clean2'] == True])\n"
   ]
  }
 ],
 "metadata": {
  "kernelspec": {
   "display_name": "Python 3",
   "language": "python",
   "name": "python3"
  },
  "language_info": {
   "codemirror_mode": {
    "name": "ipython",
    "version": 3
   },
   "file_extension": ".py",
   "mimetype": "text/x-python",
   "name": "python",
   "nbconvert_exporter": "python",
   "pygments_lexer": "ipython3",
   "version": "3.11.5"
  },
  "orig_nbformat": 4
 },
 "nbformat": 4,
 "nbformat_minor": 2
}
